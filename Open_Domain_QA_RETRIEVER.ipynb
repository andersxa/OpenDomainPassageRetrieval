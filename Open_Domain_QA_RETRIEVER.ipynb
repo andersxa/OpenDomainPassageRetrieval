{
  "nbformat": 4,
  "nbformat_minor": 0,
  "metadata": {
    "colab": {
      "name": "Open-Domain QA - RETRIEVER.ipynb",
      "provenance": [],
      "collapsed_sections": [
        "AGabZx7vHCHM"
      ],
      "toc_visible": true
    },
    "kernelspec": {
      "display_name": "Python 3",
      "name": "python3"
    },
    "widgets": {
      "application/vnd.jupyter.widget-state+json": {
        "1ff5d18652e94f75b23c7f981ceb8322": {
          "model_module": "@jupyter-widgets/controls",
          "model_name": "HBoxModel",
          "state": {
            "_view_name": "HBoxView",
            "_dom_classes": [],
            "_model_name": "HBoxModel",
            "_view_module": "@jupyter-widgets/controls",
            "_model_module_version": "1.5.0",
            "_view_count": null,
            "_view_module_version": "1.5.0",
            "box_style": "",
            "layout": "IPY_MODEL_0f4d5019ec3d49efad2dde6f729f51f8",
            "_model_module": "@jupyter-widgets/controls",
            "children": [
              "IPY_MODEL_a0449e8935424bea9d2a20229d415fed",
              "IPY_MODEL_d9e9052b5a8f42cea4e264c9654ebcbe"
            ]
          }
        },
        "0f4d5019ec3d49efad2dde6f729f51f8": {
          "model_module": "@jupyter-widgets/base",
          "model_name": "LayoutModel",
          "state": {
            "_view_name": "LayoutView",
            "grid_template_rows": null,
            "right": null,
            "justify_content": null,
            "_view_module": "@jupyter-widgets/base",
            "overflow": null,
            "_model_module_version": "1.2.0",
            "_view_count": null,
            "flex_flow": null,
            "width": null,
            "min_width": null,
            "border": null,
            "align_items": null,
            "bottom": null,
            "_model_module": "@jupyter-widgets/base",
            "top": null,
            "grid_column": null,
            "overflow_y": null,
            "overflow_x": null,
            "grid_auto_flow": null,
            "grid_area": null,
            "grid_template_columns": null,
            "flex": null,
            "_model_name": "LayoutModel",
            "justify_items": null,
            "grid_row": null,
            "max_height": null,
            "align_content": null,
            "visibility": null,
            "align_self": null,
            "height": null,
            "min_height": null,
            "padding": null,
            "grid_auto_rows": null,
            "grid_gap": null,
            "max_width": null,
            "order": null,
            "_view_module_version": "1.2.0",
            "grid_template_areas": null,
            "object_position": null,
            "object_fit": null,
            "grid_auto_columns": null,
            "margin": null,
            "display": null,
            "left": null
          }
        },
        "a0449e8935424bea9d2a20229d415fed": {
          "model_module": "@jupyter-widgets/controls",
          "model_name": "FloatProgressModel",
          "state": {
            "_view_name": "ProgressView",
            "style": "IPY_MODEL_f59f7ccc71e64ab89b6f7c826b998f6e",
            "_dom_classes": [],
            "description": "Downloading: 100%",
            "_model_name": "FloatProgressModel",
            "bar_style": "success",
            "max": 286,
            "_view_module": "@jupyter-widgets/controls",
            "_model_module_version": "1.5.0",
            "value": 286,
            "_view_count": null,
            "_view_module_version": "1.5.0",
            "orientation": "horizontal",
            "min": 0,
            "description_tooltip": null,
            "_model_module": "@jupyter-widgets/controls",
            "layout": "IPY_MODEL_07932042335c4ffa97cb4fec736968c0"
          }
        },
        "d9e9052b5a8f42cea4e264c9654ebcbe": {
          "model_module": "@jupyter-widgets/controls",
          "model_name": "HTMLModel",
          "state": {
            "_view_name": "HTMLView",
            "style": "IPY_MODEL_c312ec14f90d4694bc64c66a659559e3",
            "_dom_classes": [],
            "description": "",
            "_model_name": "HTMLModel",
            "placeholder": "​",
            "_view_module": "@jupyter-widgets/controls",
            "_model_module_version": "1.5.0",
            "value": " 286/286 [00:00&lt;00:00, 3.18kB/s]",
            "_view_count": null,
            "_view_module_version": "1.5.0",
            "description_tooltip": null,
            "_model_module": "@jupyter-widgets/controls",
            "layout": "IPY_MODEL_ae838c1e7b844ee5a1218b879d35d7c7"
          }
        },
        "f59f7ccc71e64ab89b6f7c826b998f6e": {
          "model_module": "@jupyter-widgets/controls",
          "model_name": "ProgressStyleModel",
          "state": {
            "_view_name": "StyleView",
            "_model_name": "ProgressStyleModel",
            "description_width": "initial",
            "_view_module": "@jupyter-widgets/base",
            "_model_module_version": "1.5.0",
            "_view_count": null,
            "_view_module_version": "1.2.0",
            "bar_color": null,
            "_model_module": "@jupyter-widgets/controls"
          }
        },
        "07932042335c4ffa97cb4fec736968c0": {
          "model_module": "@jupyter-widgets/base",
          "model_name": "LayoutModel",
          "state": {
            "_view_name": "LayoutView",
            "grid_template_rows": null,
            "right": null,
            "justify_content": null,
            "_view_module": "@jupyter-widgets/base",
            "overflow": null,
            "_model_module_version": "1.2.0",
            "_view_count": null,
            "flex_flow": null,
            "width": null,
            "min_width": null,
            "border": null,
            "align_items": null,
            "bottom": null,
            "_model_module": "@jupyter-widgets/base",
            "top": null,
            "grid_column": null,
            "overflow_y": null,
            "overflow_x": null,
            "grid_auto_flow": null,
            "grid_area": null,
            "grid_template_columns": null,
            "flex": null,
            "_model_name": "LayoutModel",
            "justify_items": null,
            "grid_row": null,
            "max_height": null,
            "align_content": null,
            "visibility": null,
            "align_self": null,
            "height": null,
            "min_height": null,
            "padding": null,
            "grid_auto_rows": null,
            "grid_gap": null,
            "max_width": null,
            "order": null,
            "_view_module_version": "1.2.0",
            "grid_template_areas": null,
            "object_position": null,
            "object_fit": null,
            "grid_auto_columns": null,
            "margin": null,
            "display": null,
            "left": null
          }
        },
        "c312ec14f90d4694bc64c66a659559e3": {
          "model_module": "@jupyter-widgets/controls",
          "model_name": "DescriptionStyleModel",
          "state": {
            "_view_name": "StyleView",
            "_model_name": "DescriptionStyleModel",
            "description_width": "",
            "_view_module": "@jupyter-widgets/base",
            "_model_module_version": "1.5.0",
            "_view_count": null,
            "_view_module_version": "1.2.0",
            "_model_module": "@jupyter-widgets/controls"
          }
        },
        "ae838c1e7b844ee5a1218b879d35d7c7": {
          "model_module": "@jupyter-widgets/base",
          "model_name": "LayoutModel",
          "state": {
            "_view_name": "LayoutView",
            "grid_template_rows": null,
            "right": null,
            "justify_content": null,
            "_view_module": "@jupyter-widgets/base",
            "overflow": null,
            "_model_module_version": "1.2.0",
            "_view_count": null,
            "flex_flow": null,
            "width": null,
            "min_width": null,
            "border": null,
            "align_items": null,
            "bottom": null,
            "_model_module": "@jupyter-widgets/base",
            "top": null,
            "grid_column": null,
            "overflow_y": null,
            "overflow_x": null,
            "grid_auto_flow": null,
            "grid_area": null,
            "grid_template_columns": null,
            "flex": null,
            "_model_name": "LayoutModel",
            "justify_items": null,
            "grid_row": null,
            "max_height": null,
            "align_content": null,
            "visibility": null,
            "align_self": null,
            "height": null,
            "min_height": null,
            "padding": null,
            "grid_auto_rows": null,
            "grid_gap": null,
            "max_width": null,
            "order": null,
            "_view_module_version": "1.2.0",
            "grid_template_areas": null,
            "object_position": null,
            "object_fit": null,
            "grid_auto_columns": null,
            "margin": null,
            "display": null,
            "left": null
          }
        },
        "8cbcddce1872498195722a248e3ef823": {
          "model_module": "@jupyter-widgets/controls",
          "model_name": "HBoxModel",
          "state": {
            "_view_name": "HBoxView",
            "_dom_classes": [],
            "_model_name": "HBoxModel",
            "_view_module": "@jupyter-widgets/controls",
            "_model_module_version": "1.5.0",
            "_view_count": null,
            "_view_module_version": "1.5.0",
            "box_style": "",
            "layout": "IPY_MODEL_16e99a304f154945976d50e9a8c66373",
            "_model_module": "@jupyter-widgets/controls",
            "children": [
              "IPY_MODEL_0f485983798241689a70e127cdc5acd9",
              "IPY_MODEL_56c5fb4f88304f7b92b70da9c1f5a111"
            ]
          }
        },
        "16e99a304f154945976d50e9a8c66373": {
          "model_module": "@jupyter-widgets/base",
          "model_name": "LayoutModel",
          "state": {
            "_view_name": "LayoutView",
            "grid_template_rows": null,
            "right": null,
            "justify_content": null,
            "_view_module": "@jupyter-widgets/base",
            "overflow": null,
            "_model_module_version": "1.2.0",
            "_view_count": null,
            "flex_flow": null,
            "width": null,
            "min_width": null,
            "border": null,
            "align_items": null,
            "bottom": null,
            "_model_module": "@jupyter-widgets/base",
            "top": null,
            "grid_column": null,
            "overflow_y": null,
            "overflow_x": null,
            "grid_auto_flow": null,
            "grid_area": null,
            "grid_template_columns": null,
            "flex": null,
            "_model_name": "LayoutModel",
            "justify_items": null,
            "grid_row": null,
            "max_height": null,
            "align_content": null,
            "visibility": null,
            "align_self": null,
            "height": null,
            "min_height": null,
            "padding": null,
            "grid_auto_rows": null,
            "grid_gap": null,
            "max_width": null,
            "order": null,
            "_view_module_version": "1.2.0",
            "grid_template_areas": null,
            "object_position": null,
            "object_fit": null,
            "grid_auto_columns": null,
            "margin": null,
            "display": null,
            "left": null
          }
        },
        "0f485983798241689a70e127cdc5acd9": {
          "model_module": "@jupyter-widgets/controls",
          "model_name": "FloatProgressModel",
          "state": {
            "_view_name": "ProgressView",
            "style": "IPY_MODEL_02965f7b59c04cf7905c02573157fac0",
            "_dom_classes": [],
            "description": "Downloading: 100%",
            "_model_name": "FloatProgressModel",
            "bar_style": "success",
            "max": 231508,
            "_view_module": "@jupyter-widgets/controls",
            "_model_module_version": "1.5.0",
            "value": 231508,
            "_view_count": null,
            "_view_module_version": "1.5.0",
            "orientation": "horizontal",
            "min": 0,
            "description_tooltip": null,
            "_model_module": "@jupyter-widgets/controls",
            "layout": "IPY_MODEL_ff193ee5fe424f2fa277517dc0ea74bc"
          }
        },
        "56c5fb4f88304f7b92b70da9c1f5a111": {
          "model_module": "@jupyter-widgets/controls",
          "model_name": "HTMLModel",
          "state": {
            "_view_name": "HTMLView",
            "style": "IPY_MODEL_7879780e71f941ebb3e7bdcb76ba3d26",
            "_dom_classes": [],
            "description": "",
            "_model_name": "HTMLModel",
            "placeholder": "​",
            "_view_module": "@jupyter-widgets/controls",
            "_model_module_version": "1.5.0",
            "value": " 232k/232k [00:00&lt;00:00, 5.26MB/s]",
            "_view_count": null,
            "_view_module_version": "1.5.0",
            "description_tooltip": null,
            "_model_module": "@jupyter-widgets/controls",
            "layout": "IPY_MODEL_9e9f96802d5342c59f09ed6d111a1c12"
          }
        },
        "02965f7b59c04cf7905c02573157fac0": {
          "model_module": "@jupyter-widgets/controls",
          "model_name": "ProgressStyleModel",
          "state": {
            "_view_name": "StyleView",
            "_model_name": "ProgressStyleModel",
            "description_width": "initial",
            "_view_module": "@jupyter-widgets/base",
            "_model_module_version": "1.5.0",
            "_view_count": null,
            "_view_module_version": "1.2.0",
            "bar_color": null,
            "_model_module": "@jupyter-widgets/controls"
          }
        },
        "ff193ee5fe424f2fa277517dc0ea74bc": {
          "model_module": "@jupyter-widgets/base",
          "model_name": "LayoutModel",
          "state": {
            "_view_name": "LayoutView",
            "grid_template_rows": null,
            "right": null,
            "justify_content": null,
            "_view_module": "@jupyter-widgets/base",
            "overflow": null,
            "_model_module_version": "1.2.0",
            "_view_count": null,
            "flex_flow": null,
            "width": null,
            "min_width": null,
            "border": null,
            "align_items": null,
            "bottom": null,
            "_model_module": "@jupyter-widgets/base",
            "top": null,
            "grid_column": null,
            "overflow_y": null,
            "overflow_x": null,
            "grid_auto_flow": null,
            "grid_area": null,
            "grid_template_columns": null,
            "flex": null,
            "_model_name": "LayoutModel",
            "justify_items": null,
            "grid_row": null,
            "max_height": null,
            "align_content": null,
            "visibility": null,
            "align_self": null,
            "height": null,
            "min_height": null,
            "padding": null,
            "grid_auto_rows": null,
            "grid_gap": null,
            "max_width": null,
            "order": null,
            "_view_module_version": "1.2.0",
            "grid_template_areas": null,
            "object_position": null,
            "object_fit": null,
            "grid_auto_columns": null,
            "margin": null,
            "display": null,
            "left": null
          }
        },
        "7879780e71f941ebb3e7bdcb76ba3d26": {
          "model_module": "@jupyter-widgets/controls",
          "model_name": "DescriptionStyleModel",
          "state": {
            "_view_name": "StyleView",
            "_model_name": "DescriptionStyleModel",
            "description_width": "",
            "_view_module": "@jupyter-widgets/base",
            "_model_module_version": "1.5.0",
            "_view_count": null,
            "_view_module_version": "1.2.0",
            "_model_module": "@jupyter-widgets/controls"
          }
        },
        "9e9f96802d5342c59f09ed6d111a1c12": {
          "model_module": "@jupyter-widgets/base",
          "model_name": "LayoutModel",
          "state": {
            "_view_name": "LayoutView",
            "grid_template_rows": null,
            "right": null,
            "justify_content": null,
            "_view_module": "@jupyter-widgets/base",
            "overflow": null,
            "_model_module_version": "1.2.0",
            "_view_count": null,
            "flex_flow": null,
            "width": null,
            "min_width": null,
            "border": null,
            "align_items": null,
            "bottom": null,
            "_model_module": "@jupyter-widgets/base",
            "top": null,
            "grid_column": null,
            "overflow_y": null,
            "overflow_x": null,
            "grid_auto_flow": null,
            "grid_area": null,
            "grid_template_columns": null,
            "flex": null,
            "_model_name": "LayoutModel",
            "justify_items": null,
            "grid_row": null,
            "max_height": null,
            "align_content": null,
            "visibility": null,
            "align_self": null,
            "height": null,
            "min_height": null,
            "padding": null,
            "grid_auto_rows": null,
            "grid_gap": null,
            "max_width": null,
            "order": null,
            "_view_module_version": "1.2.0",
            "grid_template_areas": null,
            "object_position": null,
            "object_fit": null,
            "grid_auto_columns": null,
            "margin": null,
            "display": null,
            "left": null
          }
        },
        "962b4c42bdb64bdb8d513d5761e8a984": {
          "model_module": "@jupyter-widgets/controls",
          "model_name": "HBoxModel",
          "state": {
            "_view_name": "HBoxView",
            "_dom_classes": [],
            "_model_name": "HBoxModel",
            "_view_module": "@jupyter-widgets/controls",
            "_model_module_version": "1.5.0",
            "_view_count": null,
            "_view_module_version": "1.5.0",
            "box_style": "",
            "layout": "IPY_MODEL_cdd648c2d64e47a0aa051326f4c5e4f0",
            "_model_module": "@jupyter-widgets/controls",
            "children": [
              "IPY_MODEL_7d22dd21e2af415a92f6add5a40b92f0",
              "IPY_MODEL_d36a187c1b08440e8654f9d3753ce4af"
            ]
          }
        },
        "cdd648c2d64e47a0aa051326f4c5e4f0": {
          "model_module": "@jupyter-widgets/base",
          "model_name": "LayoutModel",
          "state": {
            "_view_name": "LayoutView",
            "grid_template_rows": null,
            "right": null,
            "justify_content": null,
            "_view_module": "@jupyter-widgets/base",
            "overflow": null,
            "_model_module_version": "1.2.0",
            "_view_count": null,
            "flex_flow": null,
            "width": null,
            "min_width": null,
            "border": null,
            "align_items": null,
            "bottom": null,
            "_model_module": "@jupyter-widgets/base",
            "top": null,
            "grid_column": null,
            "overflow_y": null,
            "overflow_x": null,
            "grid_auto_flow": null,
            "grid_area": null,
            "grid_template_columns": null,
            "flex": null,
            "_model_name": "LayoutModel",
            "justify_items": null,
            "grid_row": null,
            "max_height": null,
            "align_content": null,
            "visibility": null,
            "align_self": null,
            "height": null,
            "min_height": null,
            "padding": null,
            "grid_auto_rows": null,
            "grid_gap": null,
            "max_width": null,
            "order": null,
            "_view_module_version": "1.2.0",
            "grid_template_areas": null,
            "object_position": null,
            "object_fit": null,
            "grid_auto_columns": null,
            "margin": null,
            "display": null,
            "left": null
          }
        },
        "7d22dd21e2af415a92f6add5a40b92f0": {
          "model_module": "@jupyter-widgets/controls",
          "model_name": "FloatProgressModel",
          "state": {
            "_view_name": "ProgressView",
            "style": "IPY_MODEL_a52c4f75835b4ccc8c1d6ed62e8b31d8",
            "_dom_classes": [],
            "description": "Downloading: 100%",
            "_model_name": "FloatProgressModel",
            "bar_style": "success",
            "max": 116270890,
            "_view_module": "@jupyter-widgets/controls",
            "_model_module_version": "1.5.0",
            "value": 116270890,
            "_view_count": null,
            "_view_module_version": "1.5.0",
            "orientation": "horizontal",
            "min": 0,
            "description_tooltip": null,
            "_model_module": "@jupyter-widgets/controls",
            "layout": "IPY_MODEL_e5264dfc543e4856b81c3f681bdf9d21"
          }
        },
        "d36a187c1b08440e8654f9d3753ce4af": {
          "model_module": "@jupyter-widgets/controls",
          "model_name": "HTMLModel",
          "state": {
            "_view_name": "HTMLView",
            "style": "IPY_MODEL_73e95bce52fc47cc8bd2f68c80355d9c",
            "_dom_classes": [],
            "description": "",
            "_model_name": "HTMLModel",
            "placeholder": "​",
            "_view_module": "@jupyter-widgets/controls",
            "_model_module_version": "1.5.0",
            "value": " 116M/116M [00:02&lt;00:00, 48.8MB/s]",
            "_view_count": null,
            "_view_module_version": "1.5.0",
            "description_tooltip": null,
            "_model_module": "@jupyter-widgets/controls",
            "layout": "IPY_MODEL_ec020b09122347e3965a41fb03a8c179"
          }
        },
        "a52c4f75835b4ccc8c1d6ed62e8b31d8": {
          "model_module": "@jupyter-widgets/controls",
          "model_name": "ProgressStyleModel",
          "state": {
            "_view_name": "StyleView",
            "_model_name": "ProgressStyleModel",
            "description_width": "initial",
            "_view_module": "@jupyter-widgets/base",
            "_model_module_version": "1.5.0",
            "_view_count": null,
            "_view_module_version": "1.2.0",
            "bar_color": null,
            "_model_module": "@jupyter-widgets/controls"
          }
        },
        "e5264dfc543e4856b81c3f681bdf9d21": {
          "model_module": "@jupyter-widgets/base",
          "model_name": "LayoutModel",
          "state": {
            "_view_name": "LayoutView",
            "grid_template_rows": null,
            "right": null,
            "justify_content": null,
            "_view_module": "@jupyter-widgets/base",
            "overflow": null,
            "_model_module_version": "1.2.0",
            "_view_count": null,
            "flex_flow": null,
            "width": null,
            "min_width": null,
            "border": null,
            "align_items": null,
            "bottom": null,
            "_model_module": "@jupyter-widgets/base",
            "top": null,
            "grid_column": null,
            "overflow_y": null,
            "overflow_x": null,
            "grid_auto_flow": null,
            "grid_area": null,
            "grid_template_columns": null,
            "flex": null,
            "_model_name": "LayoutModel",
            "justify_items": null,
            "grid_row": null,
            "max_height": null,
            "align_content": null,
            "visibility": null,
            "align_self": null,
            "height": null,
            "min_height": null,
            "padding": null,
            "grid_auto_rows": null,
            "grid_gap": null,
            "max_width": null,
            "order": null,
            "_view_module_version": "1.2.0",
            "grid_template_areas": null,
            "object_position": null,
            "object_fit": null,
            "grid_auto_columns": null,
            "margin": null,
            "display": null,
            "left": null
          }
        },
        "73e95bce52fc47cc8bd2f68c80355d9c": {
          "model_module": "@jupyter-widgets/controls",
          "model_name": "DescriptionStyleModel",
          "state": {
            "_view_name": "StyleView",
            "_model_name": "DescriptionStyleModel",
            "description_width": "",
            "_view_module": "@jupyter-widgets/base",
            "_model_module_version": "1.5.0",
            "_view_count": null,
            "_view_module_version": "1.2.0",
            "_model_module": "@jupyter-widgets/controls"
          }
        },
        "ec020b09122347e3965a41fb03a8c179": {
          "model_module": "@jupyter-widgets/base",
          "model_name": "LayoutModel",
          "state": {
            "_view_name": "LayoutView",
            "grid_template_rows": null,
            "right": null,
            "justify_content": null,
            "_view_module": "@jupyter-widgets/base",
            "overflow": null,
            "_model_module_version": "1.2.0",
            "_view_count": null,
            "flex_flow": null,
            "width": null,
            "min_width": null,
            "border": null,
            "align_items": null,
            "bottom": null,
            "_model_module": "@jupyter-widgets/base",
            "top": null,
            "grid_column": null,
            "overflow_y": null,
            "overflow_x": null,
            "grid_auto_flow": null,
            "grid_area": null,
            "grid_template_columns": null,
            "flex": null,
            "_model_name": "LayoutModel",
            "justify_items": null,
            "grid_row": null,
            "max_height": null,
            "align_content": null,
            "visibility": null,
            "align_self": null,
            "height": null,
            "min_height": null,
            "padding": null,
            "grid_auto_rows": null,
            "grid_gap": null,
            "max_width": null,
            "order": null,
            "_view_module_version": "1.2.0",
            "grid_template_areas": null,
            "object_position": null,
            "object_fit": null,
            "grid_auto_columns": null,
            "margin": null,
            "display": null,
            "left": null
          }
        },
        "3b6f63d3480b44bfa9c55b169d204242": {
          "model_module": "@jupyter-widgets/controls",
          "model_name": "HBoxModel",
          "state": {
            "_view_name": "HBoxView",
            "_dom_classes": [],
            "_model_name": "HBoxModel",
            "_view_module": "@jupyter-widgets/controls",
            "_model_module_version": "1.5.0",
            "_view_count": null,
            "_view_module_version": "1.5.0",
            "box_style": "",
            "layout": "IPY_MODEL_00ab071ed21f4345904f44e37b296137",
            "_model_module": "@jupyter-widgets/controls",
            "children": [
              "IPY_MODEL_20f0ac5990b944de991b943464e6edcb",
              "IPY_MODEL_4b12683ebada49498e976035ece53911"
            ]
          }
        },
        "00ab071ed21f4345904f44e37b296137": {
          "model_module": "@jupyter-widgets/base",
          "model_name": "LayoutModel",
          "state": {
            "_view_name": "LayoutView",
            "grid_template_rows": null,
            "right": null,
            "justify_content": null,
            "_view_module": "@jupyter-widgets/base",
            "overflow": null,
            "_model_module_version": "1.2.0",
            "_view_count": null,
            "flex_flow": null,
            "width": null,
            "min_width": null,
            "border": null,
            "align_items": null,
            "bottom": null,
            "_model_module": "@jupyter-widgets/base",
            "top": null,
            "grid_column": null,
            "overflow_y": null,
            "overflow_x": null,
            "grid_auto_flow": null,
            "grid_area": null,
            "grid_template_columns": null,
            "flex": null,
            "_model_name": "LayoutModel",
            "justify_items": null,
            "grid_row": null,
            "max_height": null,
            "align_content": null,
            "visibility": null,
            "align_self": null,
            "height": null,
            "min_height": null,
            "padding": null,
            "grid_auto_rows": null,
            "grid_gap": null,
            "max_width": null,
            "order": null,
            "_view_module_version": "1.2.0",
            "grid_template_areas": null,
            "object_position": null,
            "object_fit": null,
            "grid_auto_columns": null,
            "margin": null,
            "display": null,
            "left": null
          }
        },
        "20f0ac5990b944de991b943464e6edcb": {
          "model_module": "@jupyter-widgets/controls",
          "model_name": "FloatProgressModel",
          "state": {
            "_view_name": "ProgressView",
            "style": "IPY_MODEL_a9ead911f1724b4f99adfd46aa639c4e",
            "_dom_classes": [],
            "description": "Downloading: ",
            "_model_name": "FloatProgressModel",
            "bar_style": "success",
            "max": 3435,
            "_view_module": "@jupyter-widgets/controls",
            "_model_module_version": "1.5.0",
            "value": 3435,
            "_view_count": null,
            "_view_module_version": "1.5.0",
            "orientation": "horizontal",
            "min": 0,
            "description_tooltip": null,
            "_model_module": "@jupyter-widgets/controls",
            "layout": "IPY_MODEL_325740a2018448a59026c50762546973"
          }
        },
        "4b12683ebada49498e976035ece53911": {
          "model_module": "@jupyter-widgets/controls",
          "model_name": "HTMLModel",
          "state": {
            "_view_name": "HTMLView",
            "style": "IPY_MODEL_48f1e27a49c045ec82abfc623654dd7d",
            "_dom_classes": [],
            "description": "",
            "_model_name": "HTMLModel",
            "placeholder": "​",
            "_view_module": "@jupyter-widgets/controls",
            "_model_module_version": "1.5.0",
            "value": " 12.6k/? [00:00&lt;00:00, 63.7kB/s]",
            "_view_count": null,
            "_view_module_version": "1.5.0",
            "description_tooltip": null,
            "_model_module": "@jupyter-widgets/controls",
            "layout": "IPY_MODEL_ec9983a6b5ae41ae92e57de25e9f2b69"
          }
        },
        "a9ead911f1724b4f99adfd46aa639c4e": {
          "model_module": "@jupyter-widgets/controls",
          "model_name": "ProgressStyleModel",
          "state": {
            "_view_name": "StyleView",
            "_model_name": "ProgressStyleModel",
            "description_width": "initial",
            "_view_module": "@jupyter-widgets/base",
            "_model_module_version": "1.5.0",
            "_view_count": null,
            "_view_module_version": "1.2.0",
            "bar_color": null,
            "_model_module": "@jupyter-widgets/controls"
          }
        },
        "325740a2018448a59026c50762546973": {
          "model_module": "@jupyter-widgets/base",
          "model_name": "LayoutModel",
          "state": {
            "_view_name": "LayoutView",
            "grid_template_rows": null,
            "right": null,
            "justify_content": null,
            "_view_module": "@jupyter-widgets/base",
            "overflow": null,
            "_model_module_version": "1.2.0",
            "_view_count": null,
            "flex_flow": null,
            "width": null,
            "min_width": null,
            "border": null,
            "align_items": null,
            "bottom": null,
            "_model_module": "@jupyter-widgets/base",
            "top": null,
            "grid_column": null,
            "overflow_y": null,
            "overflow_x": null,
            "grid_auto_flow": null,
            "grid_area": null,
            "grid_template_columns": null,
            "flex": null,
            "_model_name": "LayoutModel",
            "justify_items": null,
            "grid_row": null,
            "max_height": null,
            "align_content": null,
            "visibility": null,
            "align_self": null,
            "height": null,
            "min_height": null,
            "padding": null,
            "grid_auto_rows": null,
            "grid_gap": null,
            "max_width": null,
            "order": null,
            "_view_module_version": "1.2.0",
            "grid_template_areas": null,
            "object_position": null,
            "object_fit": null,
            "grid_auto_columns": null,
            "margin": null,
            "display": null,
            "left": null
          }
        },
        "48f1e27a49c045ec82abfc623654dd7d": {
          "model_module": "@jupyter-widgets/controls",
          "model_name": "DescriptionStyleModel",
          "state": {
            "_view_name": "StyleView",
            "_model_name": "DescriptionStyleModel",
            "description_width": "",
            "_view_module": "@jupyter-widgets/base",
            "_model_module_version": "1.5.0",
            "_view_count": null,
            "_view_module_version": "1.2.0",
            "_model_module": "@jupyter-widgets/controls"
          }
        },
        "ec9983a6b5ae41ae92e57de25e9f2b69": {
          "model_module": "@jupyter-widgets/base",
          "model_name": "LayoutModel",
          "state": {
            "_view_name": "LayoutView",
            "grid_template_rows": null,
            "right": null,
            "justify_content": null,
            "_view_module": "@jupyter-widgets/base",
            "overflow": null,
            "_model_module_version": "1.2.0",
            "_view_count": null,
            "flex_flow": null,
            "width": null,
            "min_width": null,
            "border": null,
            "align_items": null,
            "bottom": null,
            "_model_module": "@jupyter-widgets/base",
            "top": null,
            "grid_column": null,
            "overflow_y": null,
            "overflow_x": null,
            "grid_auto_flow": null,
            "grid_area": null,
            "grid_template_columns": null,
            "flex": null,
            "_model_name": "LayoutModel",
            "justify_items": null,
            "grid_row": null,
            "max_height": null,
            "align_content": null,
            "visibility": null,
            "align_self": null,
            "height": null,
            "min_height": null,
            "padding": null,
            "grid_auto_rows": null,
            "grid_gap": null,
            "max_width": null,
            "order": null,
            "_view_module_version": "1.2.0",
            "grid_template_areas": null,
            "object_position": null,
            "object_fit": null,
            "grid_auto_columns": null,
            "margin": null,
            "display": null,
            "left": null
          }
        },
        "046c7b21f1664be293dd3d23a589a439": {
          "model_module": "@jupyter-widgets/controls",
          "model_name": "HBoxModel",
          "state": {
            "_view_name": "HBoxView",
            "_dom_classes": [],
            "_model_name": "HBoxModel",
            "_view_module": "@jupyter-widgets/controls",
            "_model_module_version": "1.5.0",
            "_view_count": null,
            "_view_module_version": "1.5.0",
            "box_style": "",
            "layout": "IPY_MODEL_bbdba2025b664474b216b13eeb31bf89",
            "_model_module": "@jupyter-widgets/controls",
            "children": [
              "IPY_MODEL_389636327b084a7c8bb8883d76331a1b",
              "IPY_MODEL_8ddcffeee44c4b5481ce5965eec88401"
            ]
          }
        },
        "bbdba2025b664474b216b13eeb31bf89": {
          "model_module": "@jupyter-widgets/base",
          "model_name": "LayoutModel",
          "state": {
            "_view_name": "LayoutView",
            "grid_template_rows": null,
            "right": null,
            "justify_content": null,
            "_view_module": "@jupyter-widgets/base",
            "overflow": null,
            "_model_module_version": "1.2.0",
            "_view_count": null,
            "flex_flow": null,
            "width": null,
            "min_width": null,
            "border": null,
            "align_items": null,
            "bottom": null,
            "_model_module": "@jupyter-widgets/base",
            "top": null,
            "grid_column": null,
            "overflow_y": null,
            "overflow_x": null,
            "grid_auto_flow": null,
            "grid_area": null,
            "grid_template_columns": null,
            "flex": null,
            "_model_name": "LayoutModel",
            "justify_items": null,
            "grid_row": null,
            "max_height": null,
            "align_content": null,
            "visibility": null,
            "align_self": null,
            "height": null,
            "min_height": null,
            "padding": null,
            "grid_auto_rows": null,
            "grid_gap": null,
            "max_width": null,
            "order": null,
            "_view_module_version": "1.2.0",
            "grid_template_areas": null,
            "object_position": null,
            "object_fit": null,
            "grid_auto_columns": null,
            "margin": null,
            "display": null,
            "left": null
          }
        },
        "389636327b084a7c8bb8883d76331a1b": {
          "model_module": "@jupyter-widgets/controls",
          "model_name": "FloatProgressModel",
          "state": {
            "_view_name": "ProgressView",
            "style": "IPY_MODEL_18d2601322454a8da17e67cb193cf18b",
            "_dom_classes": [],
            "description": "Downloading: ",
            "_model_name": "FloatProgressModel",
            "bar_style": "success",
            "max": 1408,
            "_view_module": "@jupyter-widgets/controls",
            "_model_module_version": "1.5.0",
            "value": 1408,
            "_view_count": null,
            "_view_module_version": "1.5.0",
            "orientation": "horizontal",
            "min": 0,
            "description_tooltip": null,
            "_model_module": "@jupyter-widgets/controls",
            "layout": "IPY_MODEL_ce52befb99114035bfea039f834acc1c"
          }
        },
        "8ddcffeee44c4b5481ce5965eec88401": {
          "model_module": "@jupyter-widgets/controls",
          "model_name": "HTMLModel",
          "state": {
            "_view_name": "HTMLView",
            "style": "IPY_MODEL_a32259577e8847fa9908c3bb00f15c1d",
            "_dom_classes": [],
            "description": "",
            "_model_name": "HTMLModel",
            "placeholder": "​",
            "_view_module": "@jupyter-widgets/controls",
            "_model_module_version": "1.5.0",
            "value": " 13.6k/? [01:58&lt;00:00, 115B/s]",
            "_view_count": null,
            "_view_module_version": "1.5.0",
            "description_tooltip": null,
            "_model_module": "@jupyter-widgets/controls",
            "layout": "IPY_MODEL_c7164420070443749f98aa831295c01b"
          }
        },
        "18d2601322454a8da17e67cb193cf18b": {
          "model_module": "@jupyter-widgets/controls",
          "model_name": "ProgressStyleModel",
          "state": {
            "_view_name": "StyleView",
            "_model_name": "ProgressStyleModel",
            "description_width": "initial",
            "_view_module": "@jupyter-widgets/base",
            "_model_module_version": "1.5.0",
            "_view_count": null,
            "_view_module_version": "1.2.0",
            "bar_color": null,
            "_model_module": "@jupyter-widgets/controls"
          }
        },
        "ce52befb99114035bfea039f834acc1c": {
          "model_module": "@jupyter-widgets/base",
          "model_name": "LayoutModel",
          "state": {
            "_view_name": "LayoutView",
            "grid_template_rows": null,
            "right": null,
            "justify_content": null,
            "_view_module": "@jupyter-widgets/base",
            "overflow": null,
            "_model_module_version": "1.2.0",
            "_view_count": null,
            "flex_flow": null,
            "width": null,
            "min_width": null,
            "border": null,
            "align_items": null,
            "bottom": null,
            "_model_module": "@jupyter-widgets/base",
            "top": null,
            "grid_column": null,
            "overflow_y": null,
            "overflow_x": null,
            "grid_auto_flow": null,
            "grid_area": null,
            "grid_template_columns": null,
            "flex": null,
            "_model_name": "LayoutModel",
            "justify_items": null,
            "grid_row": null,
            "max_height": null,
            "align_content": null,
            "visibility": null,
            "align_self": null,
            "height": null,
            "min_height": null,
            "padding": null,
            "grid_auto_rows": null,
            "grid_gap": null,
            "max_width": null,
            "order": null,
            "_view_module_version": "1.2.0",
            "grid_template_areas": null,
            "object_position": null,
            "object_fit": null,
            "grid_auto_columns": null,
            "margin": null,
            "display": null,
            "left": null
          }
        },
        "a32259577e8847fa9908c3bb00f15c1d": {
          "model_module": "@jupyter-widgets/controls",
          "model_name": "DescriptionStyleModel",
          "state": {
            "_view_name": "StyleView",
            "_model_name": "DescriptionStyleModel",
            "description_width": "",
            "_view_module": "@jupyter-widgets/base",
            "_model_module_version": "1.5.0",
            "_view_count": null,
            "_view_module_version": "1.2.0",
            "_model_module": "@jupyter-widgets/controls"
          }
        },
        "c7164420070443749f98aa831295c01b": {
          "model_module": "@jupyter-widgets/base",
          "model_name": "LayoutModel",
          "state": {
            "_view_name": "LayoutView",
            "grid_template_rows": null,
            "right": null,
            "justify_content": null,
            "_view_module": "@jupyter-widgets/base",
            "overflow": null,
            "_model_module_version": "1.2.0",
            "_view_count": null,
            "flex_flow": null,
            "width": null,
            "min_width": null,
            "border": null,
            "align_items": null,
            "bottom": null,
            "_model_module": "@jupyter-widgets/base",
            "top": null,
            "grid_column": null,
            "overflow_y": null,
            "overflow_x": null,
            "grid_auto_flow": null,
            "grid_area": null,
            "grid_template_columns": null,
            "flex": null,
            "_model_name": "LayoutModel",
            "justify_items": null,
            "grid_row": null,
            "max_height": null,
            "align_content": null,
            "visibility": null,
            "align_self": null,
            "height": null,
            "min_height": null,
            "padding": null,
            "grid_auto_rows": null,
            "grid_gap": null,
            "max_width": null,
            "order": null,
            "_view_module_version": "1.2.0",
            "grid_template_areas": null,
            "object_position": null,
            "object_fit": null,
            "grid_auto_columns": null,
            "margin": null,
            "display": null,
            "left": null
          }
        },
        "5d48453744ec4926b83848587ad44de5": {
          "model_module": "@jupyter-widgets/controls",
          "model_name": "HBoxModel",
          "state": {
            "_view_name": "HBoxView",
            "_dom_classes": [],
            "_model_name": "HBoxModel",
            "_view_module": "@jupyter-widgets/controls",
            "_model_module_version": "1.5.0",
            "_view_count": null,
            "_view_module_version": "1.5.0",
            "box_style": "",
            "layout": "IPY_MODEL_d14ddbfed4cc443a9e6825db56f7f1fa",
            "_model_module": "@jupyter-widgets/controls",
            "children": [
              "IPY_MODEL_0536a993e8184eea8358de0d1c4df747",
              "IPY_MODEL_db798d823546447c99d62a3e7ceffbf0"
            ]
          }
        },
        "d14ddbfed4cc443a9e6825db56f7f1fa": {
          "model_module": "@jupyter-widgets/base",
          "model_name": "LayoutModel",
          "state": {
            "_view_name": "LayoutView",
            "grid_template_rows": null,
            "right": null,
            "justify_content": null,
            "_view_module": "@jupyter-widgets/base",
            "overflow": null,
            "_model_module_version": "1.2.0",
            "_view_count": null,
            "flex_flow": null,
            "width": null,
            "min_width": null,
            "border": null,
            "align_items": null,
            "bottom": null,
            "_model_module": "@jupyter-widgets/base",
            "top": null,
            "grid_column": null,
            "overflow_y": null,
            "overflow_x": null,
            "grid_auto_flow": null,
            "grid_area": null,
            "grid_template_columns": null,
            "flex": null,
            "_model_name": "LayoutModel",
            "justify_items": null,
            "grid_row": null,
            "max_height": null,
            "align_content": null,
            "visibility": null,
            "align_self": null,
            "height": null,
            "min_height": null,
            "padding": null,
            "grid_auto_rows": null,
            "grid_gap": null,
            "max_width": null,
            "order": null,
            "_view_module_version": "1.2.0",
            "grid_template_areas": null,
            "object_position": null,
            "object_fit": null,
            "grid_auto_columns": null,
            "margin": null,
            "display": null,
            "left": null
          }
        },
        "0536a993e8184eea8358de0d1c4df747": {
          "model_module": "@jupyter-widgets/controls",
          "model_name": "FloatProgressModel",
          "state": {
            "_view_name": "ProgressView",
            "style": "IPY_MODEL_82956a6a74fd4231a2ae6e3279311a88",
            "_dom_classes": [],
            "description": "Downloading: 100%",
            "_model_name": "FloatProgressModel",
            "bar_style": "success",
            "max": 2665779500,
            "_view_module": "@jupyter-widgets/controls",
            "_model_module_version": "1.5.0",
            "value": 2665779500,
            "_view_count": null,
            "_view_module_version": "1.5.0",
            "orientation": "horizontal",
            "min": 0,
            "description_tooltip": null,
            "_model_module": "@jupyter-widgets/controls",
            "layout": "IPY_MODEL_0cb0c281d3d34b188834e49980dc565f"
          }
        },
        "db798d823546447c99d62a3e7ceffbf0": {
          "model_module": "@jupyter-widgets/controls",
          "model_name": "HTMLModel",
          "state": {
            "_view_name": "HTMLView",
            "style": "IPY_MODEL_bbfcddc52d28440484f5001bdb08482a",
            "_dom_classes": [],
            "description": "",
            "_model_name": "HTMLModel",
            "placeholder": "​",
            "_view_module": "@jupyter-widgets/controls",
            "_model_module_version": "1.5.0",
            "value": " 2.67G/2.67G [01:57&lt;00:00, 22.7MB/s]",
            "_view_count": null,
            "_view_module_version": "1.5.0",
            "description_tooltip": null,
            "_model_module": "@jupyter-widgets/controls",
            "layout": "IPY_MODEL_ce1861273be54cd4ac76a144620ba5cb"
          }
        },
        "82956a6a74fd4231a2ae6e3279311a88": {
          "model_module": "@jupyter-widgets/controls",
          "model_name": "ProgressStyleModel",
          "state": {
            "_view_name": "StyleView",
            "_model_name": "ProgressStyleModel",
            "description_width": "initial",
            "_view_module": "@jupyter-widgets/base",
            "_model_module_version": "1.5.0",
            "_view_count": null,
            "_view_module_version": "1.2.0",
            "bar_color": null,
            "_model_module": "@jupyter-widgets/controls"
          }
        },
        "0cb0c281d3d34b188834e49980dc565f": {
          "model_module": "@jupyter-widgets/base",
          "model_name": "LayoutModel",
          "state": {
            "_view_name": "LayoutView",
            "grid_template_rows": null,
            "right": null,
            "justify_content": null,
            "_view_module": "@jupyter-widgets/base",
            "overflow": null,
            "_model_module_version": "1.2.0",
            "_view_count": null,
            "flex_flow": null,
            "width": null,
            "min_width": null,
            "border": null,
            "align_items": null,
            "bottom": null,
            "_model_module": "@jupyter-widgets/base",
            "top": null,
            "grid_column": null,
            "overflow_y": null,
            "overflow_x": null,
            "grid_auto_flow": null,
            "grid_area": null,
            "grid_template_columns": null,
            "flex": null,
            "_model_name": "LayoutModel",
            "justify_items": null,
            "grid_row": null,
            "max_height": null,
            "align_content": null,
            "visibility": null,
            "align_self": null,
            "height": null,
            "min_height": null,
            "padding": null,
            "grid_auto_rows": null,
            "grid_gap": null,
            "max_width": null,
            "order": null,
            "_view_module_version": "1.2.0",
            "grid_template_areas": null,
            "object_position": null,
            "object_fit": null,
            "grid_auto_columns": null,
            "margin": null,
            "display": null,
            "left": null
          }
        },
        "bbfcddc52d28440484f5001bdb08482a": {
          "model_module": "@jupyter-widgets/controls",
          "model_name": "DescriptionStyleModel",
          "state": {
            "_view_name": "StyleView",
            "_model_name": "DescriptionStyleModel",
            "description_width": "",
            "_view_module": "@jupyter-widgets/base",
            "_model_module_version": "1.5.0",
            "_view_count": null,
            "_view_module_version": "1.2.0",
            "_model_module": "@jupyter-widgets/controls"
          }
        },
        "ce1861273be54cd4ac76a144620ba5cb": {
          "model_module": "@jupyter-widgets/base",
          "model_name": "LayoutModel",
          "state": {
            "_view_name": "LayoutView",
            "grid_template_rows": null,
            "right": null,
            "justify_content": null,
            "_view_module": "@jupyter-widgets/base",
            "overflow": null,
            "_model_module_version": "1.2.0",
            "_view_count": null,
            "flex_flow": null,
            "width": null,
            "min_width": null,
            "border": null,
            "align_items": null,
            "bottom": null,
            "_model_module": "@jupyter-widgets/base",
            "top": null,
            "grid_column": null,
            "overflow_y": null,
            "overflow_x": null,
            "grid_auto_flow": null,
            "grid_area": null,
            "grid_template_columns": null,
            "flex": null,
            "_model_name": "LayoutModel",
            "justify_items": null,
            "grid_row": null,
            "max_height": null,
            "align_content": null,
            "visibility": null,
            "align_self": null,
            "height": null,
            "min_height": null,
            "padding": null,
            "grid_auto_rows": null,
            "grid_gap": null,
            "max_width": null,
            "order": null,
            "_view_module_version": "1.2.0",
            "grid_template_areas": null,
            "object_position": null,
            "object_fit": null,
            "grid_auto_columns": null,
            "margin": null,
            "display": null,
            "left": null
          }
        },
        "a79afb4570a54dcba17ae800aa5d1830": {
          "model_module": "@jupyter-widgets/controls",
          "model_name": "HBoxModel",
          "state": {
            "_view_name": "HBoxView",
            "_dom_classes": [],
            "_model_name": "HBoxModel",
            "_view_module": "@jupyter-widgets/controls",
            "_model_module_version": "1.5.0",
            "_view_count": null,
            "_view_module_version": "1.5.0",
            "box_style": "",
            "layout": "IPY_MODEL_c282abc9d53f40de85a6231faae4fb91",
            "_model_module": "@jupyter-widgets/controls",
            "children": [
              "IPY_MODEL_1e031fd2d937408484507e21044d648a",
              "IPY_MODEL_5ba79067917946c0a7a25cb6a83bfb8c"
            ]
          }
        },
        "c282abc9d53f40de85a6231faae4fb91": {
          "model_module": "@jupyter-widgets/base",
          "model_name": "LayoutModel",
          "state": {
            "_view_name": "LayoutView",
            "grid_template_rows": null,
            "right": null,
            "justify_content": null,
            "_view_module": "@jupyter-widgets/base",
            "overflow": null,
            "_model_module_version": "1.2.0",
            "_view_count": null,
            "flex_flow": null,
            "width": null,
            "min_width": null,
            "border": null,
            "align_items": null,
            "bottom": null,
            "_model_module": "@jupyter-widgets/base",
            "top": null,
            "grid_column": null,
            "overflow_y": null,
            "overflow_x": null,
            "grid_auto_flow": null,
            "grid_area": null,
            "grid_template_columns": null,
            "flex": null,
            "_model_name": "LayoutModel",
            "justify_items": null,
            "grid_row": null,
            "max_height": null,
            "align_content": null,
            "visibility": null,
            "align_self": null,
            "height": null,
            "min_height": null,
            "padding": null,
            "grid_auto_rows": null,
            "grid_gap": null,
            "max_width": null,
            "order": null,
            "_view_module_version": "1.2.0",
            "grid_template_areas": null,
            "object_position": null,
            "object_fit": null,
            "grid_auto_columns": null,
            "margin": null,
            "display": null,
            "left": null
          }
        },
        "1e031fd2d937408484507e21044d648a": {
          "model_module": "@jupyter-widgets/controls",
          "model_name": "FloatProgressModel",
          "state": {
            "_view_name": "ProgressView",
            "style": "IPY_MODEL_7b869645687e4db5a204a1cfddfd6c3d",
            "_dom_classes": [],
            "description": "",
            "_model_name": "FloatProgressModel",
            "bar_style": "info",
            "max": 1,
            "_view_module": "@jupyter-widgets/controls",
            "_model_module_version": "1.5.0",
            "value": 1,
            "_view_count": null,
            "_view_module_version": "1.5.0",
            "orientation": "horizontal",
            "min": 0,
            "description_tooltip": null,
            "_model_module": "@jupyter-widgets/controls",
            "layout": "IPY_MODEL_a0b335aa890a46069f9ca1dcc5a02f01"
          }
        },
        "5ba79067917946c0a7a25cb6a83bfb8c": {
          "model_module": "@jupyter-widgets/controls",
          "model_name": "HTMLModel",
          "state": {
            "_view_name": "HTMLView",
            "style": "IPY_MODEL_aed4ea8dbad84cf4a4f1a630ccb76e18",
            "_dom_classes": [],
            "description": "",
            "_model_name": "HTMLModel",
            "placeholder": "​",
            "_view_module": "@jupyter-widgets/controls",
            "_model_module_version": "1.5.0",
            "value": " 138384/0 [12:13&lt;00:00, 1076.42 examples/s]",
            "_view_count": null,
            "_view_module_version": "1.5.0",
            "description_tooltip": null,
            "_model_module": "@jupyter-widgets/controls",
            "layout": "IPY_MODEL_dca80c3f8cf940e28496f1f3db4a93e4"
          }
        },
        "7b869645687e4db5a204a1cfddfd6c3d": {
          "model_module": "@jupyter-widgets/controls",
          "model_name": "ProgressStyleModel",
          "state": {
            "_view_name": "StyleView",
            "_model_name": "ProgressStyleModel",
            "description_width": "initial",
            "_view_module": "@jupyter-widgets/base",
            "_model_module_version": "1.5.0",
            "_view_count": null,
            "_view_module_version": "1.2.0",
            "bar_color": null,
            "_model_module": "@jupyter-widgets/controls"
          }
        },
        "a0b335aa890a46069f9ca1dcc5a02f01": {
          "model_module": "@jupyter-widgets/base",
          "model_name": "LayoutModel",
          "state": {
            "_view_name": "LayoutView",
            "grid_template_rows": null,
            "right": null,
            "justify_content": null,
            "_view_module": "@jupyter-widgets/base",
            "overflow": null,
            "_model_module_version": "1.2.0",
            "_view_count": null,
            "flex_flow": null,
            "width": null,
            "min_width": null,
            "border": null,
            "align_items": null,
            "bottom": null,
            "_model_module": "@jupyter-widgets/base",
            "top": null,
            "grid_column": null,
            "overflow_y": null,
            "overflow_x": null,
            "grid_auto_flow": null,
            "grid_area": null,
            "grid_template_columns": null,
            "flex": null,
            "_model_name": "LayoutModel",
            "justify_items": null,
            "grid_row": null,
            "max_height": null,
            "align_content": null,
            "visibility": null,
            "align_self": null,
            "height": null,
            "min_height": null,
            "padding": null,
            "grid_auto_rows": null,
            "grid_gap": null,
            "max_width": null,
            "order": null,
            "_view_module_version": "1.2.0",
            "grid_template_areas": null,
            "object_position": null,
            "object_fit": null,
            "grid_auto_columns": null,
            "margin": null,
            "display": null,
            "left": null
          }
        },
        "aed4ea8dbad84cf4a4f1a630ccb76e18": {
          "model_module": "@jupyter-widgets/controls",
          "model_name": "DescriptionStyleModel",
          "state": {
            "_view_name": "StyleView",
            "_model_name": "DescriptionStyleModel",
            "description_width": "",
            "_view_module": "@jupyter-widgets/base",
            "_model_module_version": "1.5.0",
            "_view_count": null,
            "_view_module_version": "1.2.0",
            "_model_module": "@jupyter-widgets/controls"
          }
        },
        "dca80c3f8cf940e28496f1f3db4a93e4": {
          "model_module": "@jupyter-widgets/base",
          "model_name": "LayoutModel",
          "state": {
            "_view_name": "LayoutView",
            "grid_template_rows": null,
            "right": null,
            "justify_content": null,
            "_view_module": "@jupyter-widgets/base",
            "overflow": null,
            "_model_module_version": "1.2.0",
            "_view_count": null,
            "flex_flow": null,
            "width": null,
            "min_width": null,
            "border": null,
            "align_items": null,
            "bottom": null,
            "_model_module": "@jupyter-widgets/base",
            "top": null,
            "grid_column": null,
            "overflow_y": null,
            "overflow_x": null,
            "grid_auto_flow": null,
            "grid_area": null,
            "grid_template_columns": null,
            "flex": null,
            "_model_name": "LayoutModel",
            "justify_items": null,
            "grid_row": null,
            "max_height": null,
            "align_content": null,
            "visibility": null,
            "align_self": null,
            "height": null,
            "min_height": null,
            "padding": null,
            "grid_auto_rows": null,
            "grid_gap": null,
            "max_width": null,
            "order": null,
            "_view_module_version": "1.2.0",
            "grid_template_areas": null,
            "object_position": null,
            "object_fit": null,
            "grid_auto_columns": null,
            "margin": null,
            "display": null,
            "left": null
          }
        },
        "06404f49dfc04e928240423e19991925": {
          "model_module": "@jupyter-widgets/controls",
          "model_name": "HBoxModel",
          "state": {
            "_view_name": "HBoxView",
            "_dom_classes": [],
            "_model_name": "HBoxModel",
            "_view_module": "@jupyter-widgets/controls",
            "_model_module_version": "1.5.0",
            "_view_count": null,
            "_view_module_version": "1.5.0",
            "box_style": "",
            "layout": "IPY_MODEL_3b4bbbabb6624dc8af654262cfc1632a",
            "_model_module": "@jupyter-widgets/controls",
            "children": [
              "IPY_MODEL_83ec047e67a947668d2514c18b0ca284",
              "IPY_MODEL_87da07587a774230b9eefe352f7c7eeb"
            ]
          }
        },
        "3b4bbbabb6624dc8af654262cfc1632a": {
          "model_module": "@jupyter-widgets/base",
          "model_name": "LayoutModel",
          "state": {
            "_view_name": "LayoutView",
            "grid_template_rows": null,
            "right": null,
            "justify_content": null,
            "_view_module": "@jupyter-widgets/base",
            "overflow": null,
            "_model_module_version": "1.2.0",
            "_view_count": null,
            "flex_flow": null,
            "width": null,
            "min_width": null,
            "border": null,
            "align_items": null,
            "bottom": null,
            "_model_module": "@jupyter-widgets/base",
            "top": null,
            "grid_column": null,
            "overflow_y": null,
            "overflow_x": null,
            "grid_auto_flow": null,
            "grid_area": null,
            "grid_template_columns": null,
            "flex": null,
            "_model_name": "LayoutModel",
            "justify_items": null,
            "grid_row": null,
            "max_height": null,
            "align_content": null,
            "visibility": null,
            "align_self": null,
            "height": null,
            "min_height": null,
            "padding": null,
            "grid_auto_rows": null,
            "grid_gap": null,
            "max_width": null,
            "order": null,
            "_view_module_version": "1.2.0",
            "grid_template_areas": null,
            "object_position": null,
            "object_fit": null,
            "grid_auto_columns": null,
            "margin": null,
            "display": null,
            "left": null
          }
        },
        "83ec047e67a947668d2514c18b0ca284": {
          "model_module": "@jupyter-widgets/controls",
          "model_name": "FloatProgressModel",
          "state": {
            "_view_name": "ProgressView",
            "style": "IPY_MODEL_f5c6dbedf9574194b57f77ec0c1a9cd8",
            "_dom_classes": [],
            "description": "",
            "_model_name": "FloatProgressModel",
            "bar_style": "info",
            "max": 1,
            "_view_module": "@jupyter-widgets/controls",
            "_model_module_version": "1.5.0",
            "value": 1,
            "_view_count": null,
            "_view_module_version": "1.5.0",
            "orientation": "horizontal",
            "min": 0,
            "description_tooltip": null,
            "_model_module": "@jupyter-widgets/controls",
            "layout": "IPY_MODEL_b3b5b7568a404504a8d2637dbacc4cb3"
          }
        },
        "87da07587a774230b9eefe352f7c7eeb": {
          "model_module": "@jupyter-widgets/controls",
          "model_name": "HTMLModel",
          "state": {
            "_view_name": "HTMLView",
            "style": "IPY_MODEL_6260f101e27544b5ad8101cb5bb509d4",
            "_dom_classes": [],
            "description": "",
            "_model_name": "HTMLModel",
            "placeholder": "​",
            "_view_module": "@jupyter-widgets/controls",
            "_model_module_version": "1.5.0",
            "value": " 18669/0 [01:34&lt;00:00, 1827.56 examples/s]",
            "_view_count": null,
            "_view_module_version": "1.5.0",
            "description_tooltip": null,
            "_model_module": "@jupyter-widgets/controls",
            "layout": "IPY_MODEL_4a11ae3a7ebd4a67b955119e43415b57"
          }
        },
        "f5c6dbedf9574194b57f77ec0c1a9cd8": {
          "model_module": "@jupyter-widgets/controls",
          "model_name": "ProgressStyleModel",
          "state": {
            "_view_name": "StyleView",
            "_model_name": "ProgressStyleModel",
            "description_width": "initial",
            "_view_module": "@jupyter-widgets/base",
            "_model_module_version": "1.5.0",
            "_view_count": null,
            "_view_module_version": "1.2.0",
            "bar_color": null,
            "_model_module": "@jupyter-widgets/controls"
          }
        },
        "b3b5b7568a404504a8d2637dbacc4cb3": {
          "model_module": "@jupyter-widgets/base",
          "model_name": "LayoutModel",
          "state": {
            "_view_name": "LayoutView",
            "grid_template_rows": null,
            "right": null,
            "justify_content": null,
            "_view_module": "@jupyter-widgets/base",
            "overflow": null,
            "_model_module_version": "1.2.0",
            "_view_count": null,
            "flex_flow": null,
            "width": null,
            "min_width": null,
            "border": null,
            "align_items": null,
            "bottom": null,
            "_model_module": "@jupyter-widgets/base",
            "top": null,
            "grid_column": null,
            "overflow_y": null,
            "overflow_x": null,
            "grid_auto_flow": null,
            "grid_area": null,
            "grid_template_columns": null,
            "flex": null,
            "_model_name": "LayoutModel",
            "justify_items": null,
            "grid_row": null,
            "max_height": null,
            "align_content": null,
            "visibility": null,
            "align_self": null,
            "height": null,
            "min_height": null,
            "padding": null,
            "grid_auto_rows": null,
            "grid_gap": null,
            "max_width": null,
            "order": null,
            "_view_module_version": "1.2.0",
            "grid_template_areas": null,
            "object_position": null,
            "object_fit": null,
            "grid_auto_columns": null,
            "margin": null,
            "display": null,
            "left": null
          }
        },
        "6260f101e27544b5ad8101cb5bb509d4": {
          "model_module": "@jupyter-widgets/controls",
          "model_name": "DescriptionStyleModel",
          "state": {
            "_view_name": "StyleView",
            "_model_name": "DescriptionStyleModel",
            "description_width": "",
            "_view_module": "@jupyter-widgets/base",
            "_model_module_version": "1.5.0",
            "_view_count": null,
            "_view_module_version": "1.2.0",
            "_model_module": "@jupyter-widgets/controls"
          }
        },
        "4a11ae3a7ebd4a67b955119e43415b57": {
          "model_module": "@jupyter-widgets/base",
          "model_name": "LayoutModel",
          "state": {
            "_view_name": "LayoutView",
            "grid_template_rows": null,
            "right": null,
            "justify_content": null,
            "_view_module": "@jupyter-widgets/base",
            "overflow": null,
            "_model_module_version": "1.2.0",
            "_view_count": null,
            "flex_flow": null,
            "width": null,
            "min_width": null,
            "border": null,
            "align_items": null,
            "bottom": null,
            "_model_module": "@jupyter-widgets/base",
            "top": null,
            "grid_column": null,
            "overflow_y": null,
            "overflow_x": null,
            "grid_auto_flow": null,
            "grid_area": null,
            "grid_template_columns": null,
            "flex": null,
            "_model_name": "LayoutModel",
            "justify_items": null,
            "grid_row": null,
            "max_height": null,
            "align_content": null,
            "visibility": null,
            "align_self": null,
            "height": null,
            "min_height": null,
            "padding": null,
            "grid_auto_rows": null,
            "grid_gap": null,
            "max_width": null,
            "order": null,
            "_view_module_version": "1.2.0",
            "grid_template_areas": null,
            "object_position": null,
            "object_fit": null,
            "grid_auto_columns": null,
            "margin": null,
            "display": null,
            "left": null
          }
        },
        "89f86cd058114eefac43218b344aa055": {
          "model_module": "@jupyter-widgets/controls",
          "model_name": "HBoxModel",
          "state": {
            "_view_name": "HBoxView",
            "_dom_classes": [],
            "_model_name": "HBoxModel",
            "_view_module": "@jupyter-widgets/controls",
            "_model_module_version": "1.5.0",
            "_view_count": null,
            "_view_module_version": "1.5.0",
            "box_style": "",
            "layout": "IPY_MODEL_0f98070480c446028f6f4e90e76bbbcf",
            "_model_module": "@jupyter-widgets/controls",
            "children": [
              "IPY_MODEL_848a6dac38a5466bb9757bc0104f42ab",
              "IPY_MODEL_acb5c6d4c37c4ff2b8226970a2fb252c"
            ]
          }
        },
        "0f98070480c446028f6f4e90e76bbbcf": {
          "model_module": "@jupyter-widgets/base",
          "model_name": "LayoutModel",
          "state": {
            "_view_name": "LayoutView",
            "grid_template_rows": null,
            "right": null,
            "justify_content": null,
            "_view_module": "@jupyter-widgets/base",
            "overflow": null,
            "_model_module_version": "1.2.0",
            "_view_count": null,
            "flex_flow": null,
            "width": null,
            "min_width": null,
            "border": null,
            "align_items": null,
            "bottom": null,
            "_model_module": "@jupyter-widgets/base",
            "top": null,
            "grid_column": null,
            "overflow_y": null,
            "overflow_x": null,
            "grid_auto_flow": null,
            "grid_area": null,
            "grid_template_columns": null,
            "flex": null,
            "_model_name": "LayoutModel",
            "justify_items": null,
            "grid_row": null,
            "max_height": null,
            "align_content": null,
            "visibility": null,
            "align_self": null,
            "height": null,
            "min_height": null,
            "padding": null,
            "grid_auto_rows": null,
            "grid_gap": null,
            "max_width": null,
            "order": null,
            "_view_module_version": "1.2.0",
            "grid_template_areas": null,
            "object_position": null,
            "object_fit": null,
            "grid_auto_columns": null,
            "margin": null,
            "display": null,
            "left": null
          }
        },
        "848a6dac38a5466bb9757bc0104f42ab": {
          "model_module": "@jupyter-widgets/controls",
          "model_name": "FloatProgressModel",
          "state": {
            "_view_name": "ProgressView",
            "style": "IPY_MODEL_344ad39176e041b08ef5470ab9789f89",
            "_dom_classes": [],
            "description": "",
            "_model_name": "FloatProgressModel",
            "bar_style": "info",
            "max": 1,
            "_view_module": "@jupyter-widgets/controls",
            "_model_module_version": "1.5.0",
            "value": 1,
            "_view_count": null,
            "_view_module_version": "1.5.0",
            "orientation": "horizontal",
            "min": 0,
            "description_tooltip": null,
            "_model_module": "@jupyter-widgets/controls",
            "layout": "IPY_MODEL_970a2c8b685f4435abe893fa9d05ae77"
          }
        },
        "acb5c6d4c37c4ff2b8226970a2fb252c": {
          "model_module": "@jupyter-widgets/controls",
          "model_name": "HTMLModel",
          "state": {
            "_view_name": "HTMLView",
            "style": "IPY_MODEL_f58e1250a7044203b0d7530b9c8ac0fc",
            "_dom_classes": [],
            "description": "",
            "_model_name": "HTMLModel",
            "placeholder": "​",
            "_view_module": "@jupyter-widgets/controls",
            "_model_module_version": "1.5.0",
            "value": " 17210/0 [01:26&lt;00:00, 1813.37 examples/s]",
            "_view_count": null,
            "_view_module_version": "1.5.0",
            "description_tooltip": null,
            "_model_module": "@jupyter-widgets/controls",
            "layout": "IPY_MODEL_ffa196fded2d41669be7c47591e7e6ba"
          }
        },
        "344ad39176e041b08ef5470ab9789f89": {
          "model_module": "@jupyter-widgets/controls",
          "model_name": "ProgressStyleModel",
          "state": {
            "_view_name": "StyleView",
            "_model_name": "ProgressStyleModel",
            "description_width": "initial",
            "_view_module": "@jupyter-widgets/base",
            "_model_module_version": "1.5.0",
            "_view_count": null,
            "_view_module_version": "1.2.0",
            "bar_color": null,
            "_model_module": "@jupyter-widgets/controls"
          }
        },
        "970a2c8b685f4435abe893fa9d05ae77": {
          "model_module": "@jupyter-widgets/base",
          "model_name": "LayoutModel",
          "state": {
            "_view_name": "LayoutView",
            "grid_template_rows": null,
            "right": null,
            "justify_content": null,
            "_view_module": "@jupyter-widgets/base",
            "overflow": null,
            "_model_module_version": "1.2.0",
            "_view_count": null,
            "flex_flow": null,
            "width": null,
            "min_width": null,
            "border": null,
            "align_items": null,
            "bottom": null,
            "_model_module": "@jupyter-widgets/base",
            "top": null,
            "grid_column": null,
            "overflow_y": null,
            "overflow_x": null,
            "grid_auto_flow": null,
            "grid_area": null,
            "grid_template_columns": null,
            "flex": null,
            "_model_name": "LayoutModel",
            "justify_items": null,
            "grid_row": null,
            "max_height": null,
            "align_content": null,
            "visibility": null,
            "align_self": null,
            "height": null,
            "min_height": null,
            "padding": null,
            "grid_auto_rows": null,
            "grid_gap": null,
            "max_width": null,
            "order": null,
            "_view_module_version": "1.2.0",
            "grid_template_areas": null,
            "object_position": null,
            "object_fit": null,
            "grid_auto_columns": null,
            "margin": null,
            "display": null,
            "left": null
          }
        },
        "f58e1250a7044203b0d7530b9c8ac0fc": {
          "model_module": "@jupyter-widgets/controls",
          "model_name": "DescriptionStyleModel",
          "state": {
            "_view_name": "StyleView",
            "_model_name": "DescriptionStyleModel",
            "description_width": "",
            "_view_module": "@jupyter-widgets/base",
            "_model_module_version": "1.5.0",
            "_view_count": null,
            "_view_module_version": "1.2.0",
            "_model_module": "@jupyter-widgets/controls"
          }
        },
        "ffa196fded2d41669be7c47591e7e6ba": {
          "model_module": "@jupyter-widgets/base",
          "model_name": "LayoutModel",
          "state": {
            "_view_name": "LayoutView",
            "grid_template_rows": null,
            "right": null,
            "justify_content": null,
            "_view_module": "@jupyter-widgets/base",
            "overflow": null,
            "_model_module_version": "1.2.0",
            "_view_count": null,
            "flex_flow": null,
            "width": null,
            "min_width": null,
            "border": null,
            "align_items": null,
            "bottom": null,
            "_model_module": "@jupyter-widgets/base",
            "top": null,
            "grid_column": null,
            "overflow_y": null,
            "overflow_x": null,
            "grid_auto_flow": null,
            "grid_area": null,
            "grid_template_columns": null,
            "flex": null,
            "_model_name": "LayoutModel",
            "justify_items": null,
            "grid_row": null,
            "max_height": null,
            "align_content": null,
            "visibility": null,
            "align_self": null,
            "height": null,
            "min_height": null,
            "padding": null,
            "grid_auto_rows": null,
            "grid_gap": null,
            "max_width": null,
            "order": null,
            "_view_module_version": "1.2.0",
            "grid_template_areas": null,
            "object_position": null,
            "object_fit": null,
            "grid_auto_columns": null,
            "margin": null,
            "display": null,
            "left": null
          }
        },
        "b6b191bc14d246ac976ca769b7a04e83": {
          "model_module": "@jupyter-widgets/controls",
          "model_name": "HBoxModel",
          "state": {
            "_view_name": "HBoxView",
            "_dom_classes": [],
            "_model_name": "HBoxModel",
            "_view_module": "@jupyter-widgets/controls",
            "_model_module_version": "1.5.0",
            "_view_count": null,
            "_view_module_version": "1.5.0",
            "box_style": "",
            "layout": "IPY_MODEL_9c702d20da6d4ec7b2ec5e401921c20d",
            "_model_module": "@jupyter-widgets/controls",
            "children": [
              "IPY_MODEL_b15f77863b474851861b66f0fdd23c54",
              "IPY_MODEL_6bdf086ff5054489aa8423d47bef8d38"
            ]
          }
        },
        "9c702d20da6d4ec7b2ec5e401921c20d": {
          "model_module": "@jupyter-widgets/base",
          "model_name": "LayoutModel",
          "state": {
            "_view_name": "LayoutView",
            "grid_template_rows": null,
            "right": null,
            "justify_content": null,
            "_view_module": "@jupyter-widgets/base",
            "overflow": null,
            "_model_module_version": "1.2.0",
            "_view_count": null,
            "flex_flow": null,
            "width": null,
            "min_width": null,
            "border": null,
            "align_items": null,
            "bottom": null,
            "_model_module": "@jupyter-widgets/base",
            "top": null,
            "grid_column": null,
            "overflow_y": null,
            "overflow_x": null,
            "grid_auto_flow": null,
            "grid_area": null,
            "grid_template_columns": null,
            "flex": null,
            "_model_name": "LayoutModel",
            "justify_items": null,
            "grid_row": null,
            "max_height": null,
            "align_content": null,
            "visibility": null,
            "align_self": null,
            "height": null,
            "min_height": null,
            "padding": null,
            "grid_auto_rows": null,
            "grid_gap": null,
            "max_width": null,
            "order": null,
            "_view_module_version": "1.2.0",
            "grid_template_areas": null,
            "object_position": null,
            "object_fit": null,
            "grid_auto_columns": null,
            "margin": null,
            "display": null,
            "left": null
          }
        },
        "b15f77863b474851861b66f0fdd23c54": {
          "model_module": "@jupyter-widgets/controls",
          "model_name": "FloatProgressModel",
          "state": {
            "_view_name": "ProgressView",
            "style": "IPY_MODEL_c225181145f147208bc0c0021c9b87ff",
            "_dom_classes": [],
            "description": "100%",
            "_model_name": "FloatProgressModel",
            "bar_style": "success",
            "max": 1076,
            "_view_module": "@jupyter-widgets/controls",
            "_model_module_version": "1.5.0",
            "value": 1076,
            "_view_count": null,
            "_view_module_version": "1.5.0",
            "orientation": "horizontal",
            "min": 0,
            "description_tooltip": null,
            "_model_module": "@jupyter-widgets/controls",
            "layout": "IPY_MODEL_ea3617cc1a3e4cb0bfc18985598a6a9f"
          }
        },
        "6bdf086ff5054489aa8423d47bef8d38": {
          "model_module": "@jupyter-widgets/controls",
          "model_name": "HTMLModel",
          "state": {
            "_view_name": "HTMLView",
            "style": "IPY_MODEL_3370409d7c86410693692ab91fc2e92b",
            "_dom_classes": [],
            "description": "",
            "_model_name": "HTMLModel",
            "placeholder": "​",
            "_view_module": "@jupyter-widgets/controls",
            "_model_module_version": "1.5.0",
            "value": " 1076/1076 [58:12&lt;00:00,  3.25s/ba]",
            "_view_count": null,
            "_view_module_version": "1.5.0",
            "description_tooltip": null,
            "_model_module": "@jupyter-widgets/controls",
            "layout": "IPY_MODEL_1ffa7ad30e614571871e6ce788af3554"
          }
        },
        "c225181145f147208bc0c0021c9b87ff": {
          "model_module": "@jupyter-widgets/controls",
          "model_name": "ProgressStyleModel",
          "state": {
            "_view_name": "StyleView",
            "_model_name": "ProgressStyleModel",
            "description_width": "initial",
            "_view_module": "@jupyter-widgets/base",
            "_model_module_version": "1.5.0",
            "_view_count": null,
            "_view_module_version": "1.2.0",
            "bar_color": null,
            "_model_module": "@jupyter-widgets/controls"
          }
        },
        "ea3617cc1a3e4cb0bfc18985598a6a9f": {
          "model_module": "@jupyter-widgets/base",
          "model_name": "LayoutModel",
          "state": {
            "_view_name": "LayoutView",
            "grid_template_rows": null,
            "right": null,
            "justify_content": null,
            "_view_module": "@jupyter-widgets/base",
            "overflow": null,
            "_model_module_version": "1.2.0",
            "_view_count": null,
            "flex_flow": null,
            "width": null,
            "min_width": null,
            "border": null,
            "align_items": null,
            "bottom": null,
            "_model_module": "@jupyter-widgets/base",
            "top": null,
            "grid_column": null,
            "overflow_y": null,
            "overflow_x": null,
            "grid_auto_flow": null,
            "grid_area": null,
            "grid_template_columns": null,
            "flex": null,
            "_model_name": "LayoutModel",
            "justify_items": null,
            "grid_row": null,
            "max_height": null,
            "align_content": null,
            "visibility": null,
            "align_self": null,
            "height": null,
            "min_height": null,
            "padding": null,
            "grid_auto_rows": null,
            "grid_gap": null,
            "max_width": null,
            "order": null,
            "_view_module_version": "1.2.0",
            "grid_template_areas": null,
            "object_position": null,
            "object_fit": null,
            "grid_auto_columns": null,
            "margin": null,
            "display": null,
            "left": null
          }
        },
        "3370409d7c86410693692ab91fc2e92b": {
          "model_module": "@jupyter-widgets/controls",
          "model_name": "DescriptionStyleModel",
          "state": {
            "_view_name": "StyleView",
            "_model_name": "DescriptionStyleModel",
            "description_width": "",
            "_view_module": "@jupyter-widgets/base",
            "_model_module_version": "1.5.0",
            "_view_count": null,
            "_view_module_version": "1.2.0",
            "_model_module": "@jupyter-widgets/controls"
          }
        },
        "1ffa7ad30e614571871e6ce788af3554": {
          "model_module": "@jupyter-widgets/base",
          "model_name": "LayoutModel",
          "state": {
            "_view_name": "LayoutView",
            "grid_template_rows": null,
            "right": null,
            "justify_content": null,
            "_view_module": "@jupyter-widgets/base",
            "overflow": null,
            "_model_module_version": "1.2.0",
            "_view_count": null,
            "flex_flow": null,
            "width": null,
            "min_width": null,
            "border": null,
            "align_items": null,
            "bottom": null,
            "_model_module": "@jupyter-widgets/base",
            "top": null,
            "grid_column": null,
            "overflow_y": null,
            "overflow_x": null,
            "grid_auto_flow": null,
            "grid_area": null,
            "grid_template_columns": null,
            "flex": null,
            "_model_name": "LayoutModel",
            "justify_items": null,
            "grid_row": null,
            "max_height": null,
            "align_content": null,
            "visibility": null,
            "align_self": null,
            "height": null,
            "min_height": null,
            "padding": null,
            "grid_auto_rows": null,
            "grid_gap": null,
            "max_width": null,
            "order": null,
            "_view_module_version": "1.2.0",
            "grid_template_areas": null,
            "object_position": null,
            "object_fit": null,
            "grid_auto_columns": null,
            "margin": null,
            "display": null,
            "left": null
          }
        },
        "ce408fc2934343949cf66d9abafa2ecf": {
          "model_module": "@jupyter-widgets/controls",
          "model_name": "HBoxModel",
          "state": {
            "_view_name": "HBoxView",
            "_dom_classes": [],
            "_model_name": "HBoxModel",
            "_view_module": "@jupyter-widgets/controls",
            "_model_module_version": "1.5.0",
            "_view_count": null,
            "_view_module_version": "1.5.0",
            "box_style": "",
            "layout": "IPY_MODEL_ef68d9ad08004c07946edc297c91f876",
            "_model_module": "@jupyter-widgets/controls",
            "children": [
              "IPY_MODEL_ce61be7766d14e318a6c56775b7597d5",
              "IPY_MODEL_2d79f4ce31a542dd99c67e060f3df701"
            ]
          }
        },
        "ef68d9ad08004c07946edc297c91f876": {
          "model_module": "@jupyter-widgets/base",
          "model_name": "LayoutModel",
          "state": {
            "_view_name": "LayoutView",
            "grid_template_rows": null,
            "right": null,
            "justify_content": null,
            "_view_module": "@jupyter-widgets/base",
            "overflow": null,
            "_model_module_version": "1.2.0",
            "_view_count": null,
            "flex_flow": null,
            "width": null,
            "min_width": null,
            "border": null,
            "align_items": null,
            "bottom": null,
            "_model_module": "@jupyter-widgets/base",
            "top": null,
            "grid_column": null,
            "overflow_y": null,
            "overflow_x": null,
            "grid_auto_flow": null,
            "grid_area": null,
            "grid_template_columns": null,
            "flex": null,
            "_model_name": "LayoutModel",
            "justify_items": null,
            "grid_row": null,
            "max_height": null,
            "align_content": null,
            "visibility": null,
            "align_self": null,
            "height": null,
            "min_height": null,
            "padding": null,
            "grid_auto_rows": null,
            "grid_gap": null,
            "max_width": null,
            "order": null,
            "_view_module_version": "1.2.0",
            "grid_template_areas": null,
            "object_position": null,
            "object_fit": null,
            "grid_auto_columns": null,
            "margin": null,
            "display": null,
            "left": null
          }
        },
        "ce61be7766d14e318a6c56775b7597d5": {
          "model_module": "@jupyter-widgets/controls",
          "model_name": "FloatProgressModel",
          "state": {
            "_view_name": "ProgressView",
            "style": "IPY_MODEL_f9f308c1a9224237b06878e8d6d05495",
            "_dom_classes": [],
            "description": "100%",
            "_model_name": "FloatProgressModel",
            "bar_style": "success",
            "max": 269,
            "_view_module": "@jupyter-widgets/controls",
            "_model_module_version": "1.5.0",
            "value": 269,
            "_view_count": null,
            "_view_module_version": "1.5.0",
            "orientation": "horizontal",
            "min": 0,
            "description_tooltip": null,
            "_model_module": "@jupyter-widgets/controls",
            "layout": "IPY_MODEL_87b1153b62bc4cf08aaa0e248fdbffcc"
          }
        },
        "2d79f4ce31a542dd99c67e060f3df701": {
          "model_module": "@jupyter-widgets/controls",
          "model_name": "HTMLModel",
          "state": {
            "_view_name": "HTMLView",
            "style": "IPY_MODEL_0b7544afe4124be09b930f228534784b",
            "_dom_classes": [],
            "description": "",
            "_model_name": "HTMLModel",
            "placeholder": "​",
            "_view_module": "@jupyter-widgets/controls",
            "_model_module_version": "1.5.0",
            "value": " 269/269 [35:24&lt;00:00,  7.90s/ba]",
            "_view_count": null,
            "_view_module_version": "1.5.0",
            "description_tooltip": null,
            "_model_module": "@jupyter-widgets/controls",
            "layout": "IPY_MODEL_cb3d34b8ee7545b994bcd40dff51353a"
          }
        },
        "f9f308c1a9224237b06878e8d6d05495": {
          "model_module": "@jupyter-widgets/controls",
          "model_name": "ProgressStyleModel",
          "state": {
            "_view_name": "StyleView",
            "_model_name": "ProgressStyleModel",
            "description_width": "initial",
            "_view_module": "@jupyter-widgets/base",
            "_model_module_version": "1.5.0",
            "_view_count": null,
            "_view_module_version": "1.2.0",
            "bar_color": null,
            "_model_module": "@jupyter-widgets/controls"
          }
        },
        "87b1153b62bc4cf08aaa0e248fdbffcc": {
          "model_module": "@jupyter-widgets/base",
          "model_name": "LayoutModel",
          "state": {
            "_view_name": "LayoutView",
            "grid_template_rows": null,
            "right": null,
            "justify_content": null,
            "_view_module": "@jupyter-widgets/base",
            "overflow": null,
            "_model_module_version": "1.2.0",
            "_view_count": null,
            "flex_flow": null,
            "width": null,
            "min_width": null,
            "border": null,
            "align_items": null,
            "bottom": null,
            "_model_module": "@jupyter-widgets/base",
            "top": null,
            "grid_column": null,
            "overflow_y": null,
            "overflow_x": null,
            "grid_auto_flow": null,
            "grid_area": null,
            "grid_template_columns": null,
            "flex": null,
            "_model_name": "LayoutModel",
            "justify_items": null,
            "grid_row": null,
            "max_height": null,
            "align_content": null,
            "visibility": null,
            "align_self": null,
            "height": null,
            "min_height": null,
            "padding": null,
            "grid_auto_rows": null,
            "grid_gap": null,
            "max_width": null,
            "order": null,
            "_view_module_version": "1.2.0",
            "grid_template_areas": null,
            "object_position": null,
            "object_fit": null,
            "grid_auto_columns": null,
            "margin": null,
            "display": null,
            "left": null
          }
        },
        "0b7544afe4124be09b930f228534784b": {
          "model_module": "@jupyter-widgets/controls",
          "model_name": "DescriptionStyleModel",
          "state": {
            "_view_name": "StyleView",
            "_model_name": "DescriptionStyleModel",
            "description_width": "",
            "_view_module": "@jupyter-widgets/base",
            "_model_module_version": "1.5.0",
            "_view_count": null,
            "_view_module_version": "1.2.0",
            "_model_module": "@jupyter-widgets/controls"
          }
        },
        "cb3d34b8ee7545b994bcd40dff51353a": {
          "model_module": "@jupyter-widgets/base",
          "model_name": "LayoutModel",
          "state": {
            "_view_name": "LayoutView",
            "grid_template_rows": null,
            "right": null,
            "justify_content": null,
            "_view_module": "@jupyter-widgets/base",
            "overflow": null,
            "_model_module_version": "1.2.0",
            "_view_count": null,
            "flex_flow": null,
            "width": null,
            "min_width": null,
            "border": null,
            "align_items": null,
            "bottom": null,
            "_model_module": "@jupyter-widgets/base",
            "top": null,
            "grid_column": null,
            "overflow_y": null,
            "overflow_x": null,
            "grid_auto_flow": null,
            "grid_area": null,
            "grid_template_columns": null,
            "flex": null,
            "_model_name": "LayoutModel",
            "justify_items": null,
            "grid_row": null,
            "max_height": null,
            "align_content": null,
            "visibility": null,
            "align_self": null,
            "height": null,
            "min_height": null,
            "padding": null,
            "grid_auto_rows": null,
            "grid_gap": null,
            "max_width": null,
            "order": null,
            "_view_module_version": "1.2.0",
            "grid_template_areas": null,
            "object_position": null,
            "object_fit": null,
            "grid_auto_columns": null,
            "margin": null,
            "display": null,
            "left": null
          }
        },
        "0ea95dde722a4108ab1edd76a20b3952": {
          "model_module": "@jupyter-widgets/controls",
          "model_name": "HBoxModel",
          "state": {
            "_dom_classes": [],
            "_model_module": "@jupyter-widgets/controls",
            "_model_module_version": "1.5.0",
            "_model_name": "HBoxModel",
            "_view_count": null,
            "_view_module": "@jupyter-widgets/controls",
            "_view_module_version": "1.5.0",
            "_view_name": "HBoxView",
            "box_style": "",
            "children": [
              "IPY_MODEL_206417540cb24d5e8c6deefe00881f1b",
              "IPY_MODEL_13f54b0197204581b9727d10bb5c0bfa"
            ],
            "layout": "IPY_MODEL_3675dc50d4b04dc8930b21d63205217c"
          }
        },
        "206417540cb24d5e8c6deefe00881f1b": {
          "model_module": "@jupyter-widgets/controls",
          "model_name": "FloatProgressModel",
          "state": {
            "_dom_classes": [],
            "_model_module": "@jupyter-widgets/controls",
            "_model_module_version": "1.5.0",
            "_model_name": "FloatProgressModel",
            "_view_count": null,
            "_view_module": "@jupyter-widgets/controls",
            "_view_module_version": "1.5.0",
            "_view_name": "ProgressView",
            "bar_style": "success",
            "description": "100%",
            "description_tooltip": null,
            "layout": "IPY_MODEL_a38acc7c24194691baf03d18a4ded5db",
            "max": 1076,
            "min": 0,
            "orientation": "horizontal",
            "style": "IPY_MODEL_91978616e5d9408b89373458e52af8c1",
            "value": 1076
          }
        },
        "13f54b0197204581b9727d10bb5c0bfa": {
          "model_module": "@jupyter-widgets/controls",
          "model_name": "HTMLModel",
          "state": {
            "_dom_classes": [],
            "_model_module": "@jupyter-widgets/controls",
            "_model_module_version": "1.5.0",
            "_model_name": "HTMLModel",
            "_view_count": null,
            "_view_module": "@jupyter-widgets/controls",
            "_view_module_version": "1.5.0",
            "_view_name": "HTMLView",
            "description": "",
            "description_tooltip": null,
            "layout": "IPY_MODEL_fd482a385cdf4e99a785c659186f6d96",
            "placeholder": "​",
            "style": "IPY_MODEL_401a23b505f44fec90c6bd83cc3f4db4",
            "value": " 1076/1076 [04:26&lt;00:00,  4.04ba/s]"
          }
        },
        "3675dc50d4b04dc8930b21d63205217c": {
          "model_module": "@jupyter-widgets/base",
          "model_name": "LayoutModel",
          "state": {
            "_model_module": "@jupyter-widgets/base",
            "_model_module_version": "1.2.0",
            "_model_name": "LayoutModel",
            "_view_count": null,
            "_view_module": "@jupyter-widgets/base",
            "_view_module_version": "1.2.0",
            "_view_name": "LayoutView",
            "align_content": null,
            "align_items": null,
            "align_self": null,
            "border": null,
            "bottom": null,
            "display": null,
            "flex": null,
            "flex_flow": null,
            "grid_area": null,
            "grid_auto_columns": null,
            "grid_auto_flow": null,
            "grid_auto_rows": null,
            "grid_column": null,
            "grid_gap": null,
            "grid_row": null,
            "grid_template_areas": null,
            "grid_template_columns": null,
            "grid_template_rows": null,
            "height": null,
            "justify_content": null,
            "justify_items": null,
            "left": null,
            "margin": null,
            "max_height": null,
            "max_width": null,
            "min_height": null,
            "min_width": null,
            "object_fit": null,
            "object_position": null,
            "order": null,
            "overflow": null,
            "overflow_x": null,
            "overflow_y": null,
            "padding": null,
            "right": null,
            "top": null,
            "visibility": null,
            "width": null
          }
        },
        "a38acc7c24194691baf03d18a4ded5db": {
          "model_module": "@jupyter-widgets/base",
          "model_name": "LayoutModel",
          "state": {
            "_model_module": "@jupyter-widgets/base",
            "_model_module_version": "1.2.0",
            "_model_name": "LayoutModel",
            "_view_count": null,
            "_view_module": "@jupyter-widgets/base",
            "_view_module_version": "1.2.0",
            "_view_name": "LayoutView",
            "align_content": null,
            "align_items": null,
            "align_self": null,
            "border": null,
            "bottom": null,
            "display": null,
            "flex": null,
            "flex_flow": null,
            "grid_area": null,
            "grid_auto_columns": null,
            "grid_auto_flow": null,
            "grid_auto_rows": null,
            "grid_column": null,
            "grid_gap": null,
            "grid_row": null,
            "grid_template_areas": null,
            "grid_template_columns": null,
            "grid_template_rows": null,
            "height": null,
            "justify_content": null,
            "justify_items": null,
            "left": null,
            "margin": null,
            "max_height": null,
            "max_width": null,
            "min_height": null,
            "min_width": null,
            "object_fit": null,
            "object_position": null,
            "order": null,
            "overflow": null,
            "overflow_x": null,
            "overflow_y": null,
            "padding": null,
            "right": null,
            "top": null,
            "visibility": null,
            "width": null
          }
        },
        "91978616e5d9408b89373458e52af8c1": {
          "model_module": "@jupyter-widgets/controls",
          "model_name": "ProgressStyleModel",
          "state": {
            "_model_module": "@jupyter-widgets/controls",
            "_model_module_version": "1.5.0",
            "_model_name": "ProgressStyleModel",
            "_view_count": null,
            "_view_module": "@jupyter-widgets/base",
            "_view_module_version": "1.2.0",
            "_view_name": "StyleView",
            "bar_color": null,
            "description_width": "initial"
          }
        },
        "fd482a385cdf4e99a785c659186f6d96": {
          "model_module": "@jupyter-widgets/base",
          "model_name": "LayoutModel",
          "state": {
            "_model_module": "@jupyter-widgets/base",
            "_model_module_version": "1.2.0",
            "_model_name": "LayoutModel",
            "_view_count": null,
            "_view_module": "@jupyter-widgets/base",
            "_view_module_version": "1.2.0",
            "_view_name": "LayoutView",
            "align_content": null,
            "align_items": null,
            "align_self": null,
            "border": null,
            "bottom": null,
            "display": null,
            "flex": null,
            "flex_flow": null,
            "grid_area": null,
            "grid_auto_columns": null,
            "grid_auto_flow": null,
            "grid_auto_rows": null,
            "grid_column": null,
            "grid_gap": null,
            "grid_row": null,
            "grid_template_areas": null,
            "grid_template_columns": null,
            "grid_template_rows": null,
            "height": null,
            "justify_content": null,
            "justify_items": null,
            "left": null,
            "margin": null,
            "max_height": null,
            "max_width": null,
            "min_height": null,
            "min_width": null,
            "object_fit": null,
            "object_position": null,
            "order": null,
            "overflow": null,
            "overflow_x": null,
            "overflow_y": null,
            "padding": null,
            "right": null,
            "top": null,
            "visibility": null,
            "width": null
          }
        },
        "401a23b505f44fec90c6bd83cc3f4db4": {
          "model_module": "@jupyter-widgets/controls",
          "model_name": "DescriptionStyleModel",
          "state": {
            "_model_module": "@jupyter-widgets/controls",
            "_model_module_version": "1.5.0",
            "_model_name": "DescriptionStyleModel",
            "_view_count": null,
            "_view_module": "@jupyter-widgets/base",
            "_view_module_version": "1.2.0",
            "_view_name": "StyleView",
            "description_width": ""
          }
        },
        "75b656c8b0364f8d8cfb74d6f195e2d9": {
          "model_module": "@jupyter-widgets/controls",
          "model_name": "HBoxModel",
          "state": {
            "_dom_classes": [],
            "_model_module": "@jupyter-widgets/controls",
            "_model_module_version": "1.5.0",
            "_model_name": "HBoxModel",
            "_view_count": null,
            "_view_module": "@jupyter-widgets/controls",
            "_view_module_version": "1.5.0",
            "_view_name": "HBoxView",
            "box_style": "",
            "children": [
              "IPY_MODEL_24b51aa59e41469cb2b181ec9f3d6d04",
              "IPY_MODEL_41f7eb0a17044299aa4a5a9bef156c83"
            ],
            "layout": "IPY_MODEL_e8c02a3268b4482086273e54ca9c4451"
          }
        },
        "24b51aa59e41469cb2b181ec9f3d6d04": {
          "model_module": "@jupyter-widgets/controls",
          "model_name": "FloatProgressModel",
          "state": {
            "_dom_classes": [],
            "_model_module": "@jupyter-widgets/controls",
            "_model_module_version": "1.5.0",
            "_model_name": "FloatProgressModel",
            "_view_count": null,
            "_view_module": "@jupyter-widgets/controls",
            "_view_module_version": "1.5.0",
            "_view_name": "ProgressView",
            "bar_style": "success",
            "description": "100%",
            "description_tooltip": null,
            "layout": "IPY_MODEL_6f3abe701ee743bf91a6b90a29c348c4",
            "max": 269,
            "min": 0,
            "orientation": "horizontal",
            "style": "IPY_MODEL_058ec9626db64bf08ad7aca94ec45f1c",
            "value": 269
          }
        },
        "41f7eb0a17044299aa4a5a9bef156c83": {
          "model_module": "@jupyter-widgets/controls",
          "model_name": "HTMLModel",
          "state": {
            "_dom_classes": [],
            "_model_module": "@jupyter-widgets/controls",
            "_model_module_version": "1.5.0",
            "_model_name": "HTMLModel",
            "_view_count": null,
            "_view_module": "@jupyter-widgets/controls",
            "_view_module_version": "1.5.0",
            "_view_name": "HTMLView",
            "description": "",
            "description_tooltip": null,
            "layout": "IPY_MODEL_73855ed11d8745fa896c7465c8996e6d",
            "placeholder": "​",
            "style": "IPY_MODEL_ee97d3ae790a4e1aa930b5a871dd8a1b",
            "value": " 269/269 [43:22&lt;00:00,  9.67s/ba]"
          }
        },
        "e8c02a3268b4482086273e54ca9c4451": {
          "model_module": "@jupyter-widgets/base",
          "model_name": "LayoutModel",
          "state": {
            "_model_module": "@jupyter-widgets/base",
            "_model_module_version": "1.2.0",
            "_model_name": "LayoutModel",
            "_view_count": null,
            "_view_module": "@jupyter-widgets/base",
            "_view_module_version": "1.2.0",
            "_view_name": "LayoutView",
            "align_content": null,
            "align_items": null,
            "align_self": null,
            "border": null,
            "bottom": null,
            "display": null,
            "flex": null,
            "flex_flow": null,
            "grid_area": null,
            "grid_auto_columns": null,
            "grid_auto_flow": null,
            "grid_auto_rows": null,
            "grid_column": null,
            "grid_gap": null,
            "grid_row": null,
            "grid_template_areas": null,
            "grid_template_columns": null,
            "grid_template_rows": null,
            "height": null,
            "justify_content": null,
            "justify_items": null,
            "left": null,
            "margin": null,
            "max_height": null,
            "max_width": null,
            "min_height": null,
            "min_width": null,
            "object_fit": null,
            "object_position": null,
            "order": null,
            "overflow": null,
            "overflow_x": null,
            "overflow_y": null,
            "padding": null,
            "right": null,
            "top": null,
            "visibility": null,
            "width": null
          }
        },
        "6f3abe701ee743bf91a6b90a29c348c4": {
          "model_module": "@jupyter-widgets/base",
          "model_name": "LayoutModel",
          "state": {
            "_model_module": "@jupyter-widgets/base",
            "_model_module_version": "1.2.0",
            "_model_name": "LayoutModel",
            "_view_count": null,
            "_view_module": "@jupyter-widgets/base",
            "_view_module_version": "1.2.0",
            "_view_name": "LayoutView",
            "align_content": null,
            "align_items": null,
            "align_self": null,
            "border": null,
            "bottom": null,
            "display": null,
            "flex": null,
            "flex_flow": null,
            "grid_area": null,
            "grid_auto_columns": null,
            "grid_auto_flow": null,
            "grid_auto_rows": null,
            "grid_column": null,
            "grid_gap": null,
            "grid_row": null,
            "grid_template_areas": null,
            "grid_template_columns": null,
            "grid_template_rows": null,
            "height": null,
            "justify_content": null,
            "justify_items": null,
            "left": null,
            "margin": null,
            "max_height": null,
            "max_width": null,
            "min_height": null,
            "min_width": null,
            "object_fit": null,
            "object_position": null,
            "order": null,
            "overflow": null,
            "overflow_x": null,
            "overflow_y": null,
            "padding": null,
            "right": null,
            "top": null,
            "visibility": null,
            "width": null
          }
        },
        "058ec9626db64bf08ad7aca94ec45f1c": {
          "model_module": "@jupyter-widgets/controls",
          "model_name": "ProgressStyleModel",
          "state": {
            "_model_module": "@jupyter-widgets/controls",
            "_model_module_version": "1.5.0",
            "_model_name": "ProgressStyleModel",
            "_view_count": null,
            "_view_module": "@jupyter-widgets/base",
            "_view_module_version": "1.2.0",
            "_view_name": "StyleView",
            "bar_color": null,
            "description_width": "initial"
          }
        },
        "73855ed11d8745fa896c7465c8996e6d": {
          "model_module": "@jupyter-widgets/base",
          "model_name": "LayoutModel",
          "state": {
            "_model_module": "@jupyter-widgets/base",
            "_model_module_version": "1.2.0",
            "_model_name": "LayoutModel",
            "_view_count": null,
            "_view_module": "@jupyter-widgets/base",
            "_view_module_version": "1.2.0",
            "_view_name": "LayoutView",
            "align_content": null,
            "align_items": null,
            "align_self": null,
            "border": null,
            "bottom": null,
            "display": null,
            "flex": null,
            "flex_flow": null,
            "grid_area": null,
            "grid_auto_columns": null,
            "grid_auto_flow": null,
            "grid_auto_rows": null,
            "grid_column": null,
            "grid_gap": null,
            "grid_row": null,
            "grid_template_areas": null,
            "grid_template_columns": null,
            "grid_template_rows": null,
            "height": null,
            "justify_content": null,
            "justify_items": null,
            "left": null,
            "margin": null,
            "max_height": null,
            "max_width": null,
            "min_height": null,
            "min_width": null,
            "object_fit": null,
            "object_position": null,
            "order": null,
            "overflow": null,
            "overflow_x": null,
            "overflow_y": null,
            "padding": null,
            "right": null,
            "top": null,
            "visibility": null,
            "width": null
          }
        },
        "ee97d3ae790a4e1aa930b5a871dd8a1b": {
          "model_module": "@jupyter-widgets/controls",
          "model_name": "DescriptionStyleModel",
          "state": {
            "_model_module": "@jupyter-widgets/controls",
            "_model_module_version": "1.5.0",
            "_model_name": "DescriptionStyleModel",
            "_view_count": null,
            "_view_module": "@jupyter-widgets/base",
            "_view_module_version": "1.2.0",
            "_view_name": "StyleView",
            "description_width": ""
          }
        }
      }
    },
    "accelerator": "GPU"
  },
  "cells": [
    {
      "cell_type": "code",
      "metadata": {
        "colab": {
          "base_uri": "https://localhost:8080/"
        },
        "id": "zWa7KXyvXZn7",
        "outputId": "3f72bc60-4d23-4bec-b17f-883972f81005"
      },
      "source": [
        "!pip install datasets boto3 requests sentencepiece sacremoses tokenizers rank-bm25 faiss-gpu"
      ],
      "execution_count": null,
      "outputs": [
        {
          "output_type": "stream",
          "text": [
            "Collecting datasets\n",
            "\u001b[?25l  Downloading https://files.pythonhosted.org/packages/1a/38/0c24dce24767386123d528d27109024220db0e7a04467b658d587695241a/datasets-1.1.3-py3-none-any.whl (153kB)\n",
            "\u001b[K     |████████████████████████████████| 163kB 14.0MB/s \n",
            "\u001b[?25hCollecting boto3\n",
            "\u001b[?25l  Downloading https://files.pythonhosted.org/packages/55/c6/912cc2cfd1b4051621552fc5961c25e2f517a090d179a38f62d5cdaf5d37/boto3-1.16.43-py2.py3-none-any.whl (130kB)\n",
            "\u001b[K     |████████████████████████████████| 133kB 28.2MB/s \n",
            "\u001b[?25hRequirement already satisfied: requests in /usr/local/lib/python3.6/dist-packages (2.23.0)\n",
            "Collecting sentencepiece\n",
            "\u001b[?25l  Downloading https://files.pythonhosted.org/packages/e5/2d/6d4ca4bef9a67070fa1cac508606328329152b1df10bdf31fb6e4e727894/sentencepiece-0.1.94-cp36-cp36m-manylinux2014_x86_64.whl (1.1MB)\n",
            "\u001b[K     |████████████████████████████████| 1.1MB 43.3MB/s \n",
            "\u001b[?25hCollecting sacremoses\n",
            "\u001b[?25l  Downloading https://files.pythonhosted.org/packages/7d/34/09d19aff26edcc8eb2a01bed8e98f13a1537005d31e95233fd48216eed10/sacremoses-0.0.43.tar.gz (883kB)\n",
            "\u001b[K     |████████████████████████████████| 890kB 39.1MB/s \n",
            "\u001b[?25hCollecting tokenizers\n",
            "\u001b[?25l  Downloading https://files.pythonhosted.org/packages/0f/1c/e789a8b12e28be5bc1ce2156cf87cb522b379be9cadc7ad8091a4cc107c4/tokenizers-0.9.4-cp36-cp36m-manylinux2010_x86_64.whl (2.9MB)\n",
            "\u001b[K     |████████████████████████████████| 2.9MB 44.7MB/s \n",
            "\u001b[?25hCollecting rank-bm25\n",
            "  Downloading https://files.pythonhosted.org/packages/16/5a/23ed3132063a0684ea66fb410260c71c4ffda3b99f8f1c021d1e245401b5/rank_bm25-0.2.1-py3-none-any.whl\n",
            "Collecting faiss-gpu\n",
            "\u001b[?25l  Downloading https://files.pythonhosted.org/packages/7d/32/8b29e3f99224f24716257e78724a02674761e034e6920b4278cc21d19f77/faiss_gpu-1.6.5-cp36-cp36m-manylinux2014_x86_64.whl (67.6MB)\n",
            "\u001b[K     |████████████████████████████████| 67.7MB 42kB/s \n",
            "\u001b[?25hRequirement already satisfied: dill in /usr/local/lib/python3.6/dist-packages (from datasets) (0.3.3)\n",
            "Requirement already satisfied: dataclasses; python_version < \"3.7\" in /usr/local/lib/python3.6/dist-packages (from datasets) (0.8)\n",
            "Collecting xxhash\n",
            "\u001b[?25l  Downloading https://files.pythonhosted.org/packages/f7/73/826b19f3594756cb1c6c23d2fbd8ca6a77a9cd3b650c9dec5acc85004c38/xxhash-2.0.0-cp36-cp36m-manylinux2010_x86_64.whl (242kB)\n",
            "\u001b[K     |████████████████████████████████| 245kB 55.5MB/s \n",
            "\u001b[?25hRequirement already satisfied: numpy>=1.17 in /usr/local/lib/python3.6/dist-packages (from datasets) (1.19.4)\n",
            "Requirement already satisfied: tqdm<4.50.0,>=4.27 in /usr/local/lib/python3.6/dist-packages (from datasets) (4.41.1)\n",
            "Collecting pyarrow>=0.17.1\n",
            "\u001b[?25l  Downloading https://files.pythonhosted.org/packages/d7/e1/27958a70848f8f7089bff8d6ebe42519daf01f976d28b481e1bfd52c8097/pyarrow-2.0.0-cp36-cp36m-manylinux2014_x86_64.whl (17.7MB)\n",
            "\u001b[K     |████████████████████████████████| 17.7MB 223kB/s \n",
            "\u001b[?25hRequirement already satisfied: pandas in /usr/local/lib/python3.6/dist-packages (from datasets) (1.1.5)\n",
            "Requirement already satisfied: multiprocess in /usr/local/lib/python3.6/dist-packages (from datasets) (0.70.11.1)\n",
            "Collecting s3transfer<0.4.0,>=0.3.0\n",
            "\u001b[?25l  Downloading https://files.pythonhosted.org/packages/69/79/e6afb3d8b0b4e96cefbdc690f741d7dd24547ff1f94240c997a26fa908d3/s3transfer-0.3.3-py2.py3-none-any.whl (69kB)\n",
            "\u001b[K     |████████████████████████████████| 71kB 11.3MB/s \n",
            "\u001b[?25hCollecting jmespath<1.0.0,>=0.7.1\n",
            "  Downloading https://files.pythonhosted.org/packages/07/cb/5f001272b6faeb23c1c9e0acc04d48eaaf5c862c17709d20e3469c6e0139/jmespath-0.10.0-py2.py3-none-any.whl\n",
            "Collecting botocore<1.20.0,>=1.19.43\n",
            "\u001b[?25l  Downloading https://files.pythonhosted.org/packages/ef/6c/9f6e6a14f53b21b6f1670ccd789082015911458823914b7dabca333ae033/botocore-1.19.43-py2.py3-none-any.whl (7.2MB)\n",
            "\u001b[K     |████████████████████████████████| 7.2MB 42.0MB/s \n",
            "\u001b[?25hRequirement already satisfied: urllib3!=1.25.0,!=1.25.1,<1.26,>=1.21.1 in /usr/local/lib/python3.6/dist-packages (from requests) (1.24.3)\n",
            "Requirement already satisfied: chardet<4,>=3.0.2 in /usr/local/lib/python3.6/dist-packages (from requests) (3.0.4)\n",
            "Requirement already satisfied: idna<3,>=2.5 in /usr/local/lib/python3.6/dist-packages (from requests) (2.10)\n",
            "Requirement already satisfied: certifi>=2017.4.17 in /usr/local/lib/python3.6/dist-packages (from requests) (2020.12.5)\n",
            "Requirement already satisfied: regex in /usr/local/lib/python3.6/dist-packages (from sacremoses) (2019.12.20)\n",
            "Requirement already satisfied: six in /usr/local/lib/python3.6/dist-packages (from sacremoses) (1.15.0)\n",
            "Requirement already satisfied: click in /usr/local/lib/python3.6/dist-packages (from sacremoses) (7.1.2)\n",
            "Requirement already satisfied: joblib in /usr/local/lib/python3.6/dist-packages (from sacremoses) (1.0.0)\n",
            "Requirement already satisfied: pytz>=2017.2 in /usr/local/lib/python3.6/dist-packages (from pandas->datasets) (2018.9)\n",
            "Requirement already satisfied: python-dateutil>=2.7.3 in /usr/local/lib/python3.6/dist-packages (from pandas->datasets) (2.8.1)\n",
            "Building wheels for collected packages: sacremoses\n",
            "  Building wheel for sacremoses (setup.py) ... \u001b[?25l\u001b[?25hdone\n",
            "  Created wheel for sacremoses: filename=sacremoses-0.0.43-cp36-none-any.whl size=893261 sha256=6655025b5b400786e670730222b649a1103d66f38c5c12bad4ab7bb49dc2e95e\n",
            "  Stored in directory: /root/.cache/pip/wheels/29/3c/fd/7ce5c3f0666dab31a50123635e6fb5e19ceb42ce38d4e58f45\n",
            "Successfully built sacremoses\n",
            "\u001b[31mERROR: botocore 1.19.43 has requirement urllib3<1.27,>=1.25.4; python_version != \"3.4\", but you'll have urllib3 1.24.3 which is incompatible.\u001b[0m\n",
            "Installing collected packages: xxhash, pyarrow, datasets, jmespath, botocore, s3transfer, boto3, sentencepiece, sacremoses, tokenizers, rank-bm25, faiss-gpu\n",
            "  Found existing installation: pyarrow 0.14.1\n",
            "    Uninstalling pyarrow-0.14.1:\n",
            "      Successfully uninstalled pyarrow-0.14.1\n",
            "Successfully installed boto3-1.16.43 botocore-1.19.43 datasets-1.1.3 faiss-gpu-1.6.5 jmespath-0.10.0 pyarrow-2.0.0 rank-bm25-0.2.1 s3transfer-0.3.3 sacremoses-0.0.43 sentencepiece-0.1.94 tokenizers-0.9.4 xxhash-2.0.0\n"
          ],
          "name": "stdout"
        }
      ]
    },
    {
      "cell_type": "code",
      "metadata": {
        "colab": {
          "base_uri": "https://localhost:8080/"
        },
        "id": "Ld4VaXRCN-iF",
        "outputId": "360d4672-e4ec-4f87-8f32-fb7035e6a0e2"
      },
      "source": [
        "from google.colab import drive\n",
        "drive.mount('/gdrive')"
      ],
      "execution_count": null,
      "outputs": [
        {
          "output_type": "stream",
          "text": [
            "Mounted at /gdrive\n"
          ],
          "name": "stdout"
        }
      ]
    },
    {
      "cell_type": "code",
      "metadata": {
        "colab": {
          "base_uri": "https://localhost:8080/"
        },
        "id": "qqoi94RHJAIl",
        "outputId": "18931373-d109-4567-b06f-2e52f74b8f14"
      },
      "source": [
        "!rsync -a --progress '/gdrive/My Drive/Deep Learning/Eksamensprojekt/trivia_qa_dataset_tok' '/content/'"
      ],
      "execution_count": null,
      "outputs": [
        {
          "output_type": "stream",
          "text": [
            "sending incremental file list\n",
            "trivia_qa_dataset_tok/\n",
            "trivia_qa_dataset_tok/cache-d13f4619c823212a.arrow\n",
            "  7,003,115,032 100%   20.48MB/s    0:05:26 (xfr#1, to-chk=2/4)\n",
            "trivia_qa_dataset_tok/dataset_info.json\n",
            "          3,958 100%    0.00kB/s    0:00:00 (xfr#2, to-chk=1/4)\n",
            "trivia_qa_dataset_tok/state.json\n",
            "            401 100%    2.33kB/s    0:00:00 (xfr#3, to-chk=0/4)\n"
          ],
          "name": "stdout"
        }
      ]
    },
    {
      "cell_type": "markdown",
      "metadata": {
        "id": "TIZ4cMcBGhdQ"
      },
      "source": [
        "# Initialization"
      ]
    },
    {
      "cell_type": "code",
      "metadata": {
        "id": "RYkFe2APjs8V"
      },
      "source": [
        "import torch\n",
        "import torch.nn.functional as F\n",
        "from torch.nn.utils.rnn import pad_sequence\n",
        "import numpy as np\n",
        "from rank_bm25 import BM25Okapi\n",
        "import time\n",
        "from datasets import load_dataset, load_from_disk"
      ],
      "execution_count": null,
      "outputs": []
    },
    {
      "cell_type": "code",
      "metadata": {
        "colab": {
          "base_uri": "https://localhost:8080/",
          "height": 135,
          "referenced_widgets": [
            "1ff5d18652e94f75b23c7f981ceb8322",
            "0f4d5019ec3d49efad2dde6f729f51f8",
            "a0449e8935424bea9d2a20229d415fed",
            "d9e9052b5a8f42cea4e264c9654ebcbe",
            "f59f7ccc71e64ab89b6f7c826b998f6e",
            "07932042335c4ffa97cb4fec736968c0",
            "c312ec14f90d4694bc64c66a659559e3",
            "ae838c1e7b844ee5a1218b879d35d7c7",
            "8cbcddce1872498195722a248e3ef823",
            "16e99a304f154945976d50e9a8c66373",
            "0f485983798241689a70e127cdc5acd9",
            "56c5fb4f88304f7b92b70da9c1f5a111",
            "02965f7b59c04cf7905c02573157fac0",
            "ff193ee5fe424f2fa277517dc0ea74bc",
            "7879780e71f941ebb3e7bdcb76ba3d26",
            "9e9f96802d5342c59f09ed6d111a1c12"
          ]
        },
        "id": "pUk8faiUp5DH",
        "outputId": "88d32cf0-5e6f-4d6b-efd9-2a4b21af5c54"
      },
      "source": [
        "hugging_face_model = 'prajjwal1/bert-small'#'distilbert-base-uncased'#\n",
        "\n",
        "tokenizer = torch.hub.load('huggingface/pytorch-transformers', 'tokenizer', hugging_face_model)"
      ],
      "execution_count": null,
      "outputs": [
        {
          "output_type": "stream",
          "text": [
            "Downloading: \"https://github.com/huggingface/pytorch-transformers/archive/master.zip\" to /root/.cache/torch/hub/master.zip\n"
          ],
          "name": "stderr"
        },
        {
          "output_type": "display_data",
          "data": {
            "application/vnd.jupyter.widget-view+json": {
              "model_id": "1ff5d18652e94f75b23c7f981ceb8322",
              "version_minor": 0,
              "version_major": 2
            },
            "text/plain": [
              "HBox(children=(FloatProgress(value=0.0, description='Downloading', max=286.0, style=ProgressStyle(description_…"
            ]
          },
          "metadata": {
            "tags": []
          }
        },
        {
          "output_type": "stream",
          "text": [
            "\n"
          ],
          "name": "stdout"
        },
        {
          "output_type": "display_data",
          "data": {
            "application/vnd.jupyter.widget-view+json": {
              "model_id": "8cbcddce1872498195722a248e3ef823",
              "version_minor": 0,
              "version_major": 2
            },
            "text/plain": [
              "HBox(children=(FloatProgress(value=0.0, description='Downloading', max=231508.0, style=ProgressStyle(descripti…"
            ]
          },
          "metadata": {
            "tags": []
          }
        },
        {
          "output_type": "stream",
          "text": [
            "\n"
          ],
          "name": "stdout"
        }
      ]
    },
    {
      "cell_type": "code",
      "metadata": {
        "colab": {
          "base_uri": "https://localhost:8080/",
          "height": 104,
          "referenced_widgets": [
            "962b4c42bdb64bdb8d513d5761e8a984",
            "cdd648c2d64e47a0aa051326f4c5e4f0",
            "7d22dd21e2af415a92f6add5a40b92f0",
            "d36a187c1b08440e8654f9d3753ce4af",
            "a52c4f75835b4ccc8c1d6ed62e8b31d8",
            "e5264dfc543e4856b81c3f681bdf9d21",
            "73e95bce52fc47cc8bd2f68c80355d9c",
            "ec020b09122347e3965a41fb03a8c179"
          ]
        },
        "id": "Op85cuLk4DdS",
        "outputId": "d62f1de7-f9b4-40ad-aac3-8526a851dc0f"
      },
      "source": [
        "from tqdm import tqdm\n",
        "from torch.cuda.amp.autocast_mode import autocast\n",
        "device = torch.device(\"cuda:0\" if torch.cuda.is_available() else \"cpu\")\n",
        "\n",
        "class BertModelCustom(torch.nn.Module):\n",
        "  def __init__(self):\n",
        "    super(BertModelCustom, self).__init__()\n",
        "    self.model = torch.hub.load('huggingface/pytorch-transformers', 'model', hugging_face_model)\n",
        "    self.linear1 = torch.nn.Linear(512, 512)\n",
        "    self.linear2 = torch.nn.Linear(512, 512)\n",
        "  def forward(self, q_p):\n",
        "    embed = self.model(**q_p, output_hidden_states=True, return_dict=True)['hidden_states'][-1][:,0,:]\n",
        "    #embed = torch.mean(self.model(**q_p, output_hidden_states=True, return_dict=True)['hidden_states'][-1],1)\n",
        "    #embed = torch.mean(self.model(**q_p, output_hidden_states=True, return_dict=True)['hidden_states'][-2],1)\n",
        "    embed = self.linear1(embed)\n",
        "    embed = torch.nn.functional.gelu(embed)\n",
        "    embed = self.linear2(embed)\n",
        "    return embed\n",
        "\n",
        "class BertModelAll(torch.nn.Module):\n",
        "  def __init__(self):\n",
        "    super(BertModelAll, self).__init__()\n",
        "    self.model = torch.hub.load('huggingface/pytorch-transformers', 'model', hugging_face_model)\n",
        "    self.linear1_p = torch.nn.Linear(512, 512)\n",
        "    self.linear2_p = torch.nn.Linear(512, 512)\n",
        "\n",
        "    self.linear1_q = torch.nn.Linear(512, 512)\n",
        "    self.linear2_q = torch.nn.Linear(512, 512)\n",
        "  def forward(self, q, p):\n",
        "    #embed = torch.mean(self.model(**q_p, output_hidden_states=True, return_dict=True)['hidden_states'][-1],1)\n",
        "    #embed = torch.mean(self.model(**q_p, output_hidden_states=True, return_dict=True)['hidden_states'][-2],1)\n",
        "    #embed = self.model(**q_p, output_hidden_states=True, return_dict=True)['hidden_states']\n",
        "    #attention_mask = q_p['attention_mask'].float()\n",
        "    #embed = torch.einsum('bs,bsn->bsn',attention_mask,embed[-1]).sum(1)/attention_mask.sum(1)\n",
        "    #^^^^^^^^^^^??????????? maybe just\n",
        "    #embed = torch.mean(embed[-1][attention_mask])\n",
        "    \n",
        "    embed_q = self.embed_q(q)\n",
        "    embed_p = self.embed_p(p)\n",
        "\n",
        "    return embed_q, embed_p\n",
        "\n",
        "  def embed_q(self, q):\n",
        "    embed_q = self.model(**q, output_hidden_states=True, return_dict=True)['hidden_states'][-1][:,0,:]\n",
        "    embed_q = self.linear1_q(embed_q)\n",
        "    embed_q = torch.nn.functional.gelu(embed_q)\n",
        "    embed_q = self.linear2_q(embed_q)\n",
        "    return embed_q\n",
        "  def embed_p(self,p):\n",
        "    embed_p = self.model(**p, output_hidden_states=True, return_dict=True)['hidden_states'][-1][:,0,:]\n",
        "    embed_p = self.linear1_p(embed_p)\n",
        "    embed_p = torch.nn.functional.gelu(embed_p)\n",
        "    embed_p = self.linear2_p(embed_p)\n",
        "    return embed_p\n",
        "\n",
        "\n",
        "\n",
        "modelname = \"bert-small-512-shared\"\n",
        "\n",
        "\n",
        "# model_q = BertModelCustom()\n",
        "# model_q.to(device)\n",
        "# model_p = BertModelCustom()\n",
        "# model_p.to(device)\n",
        "# print(\"Trainable parameters:\", sum(p.numel() for p in list(model_p.parameters())+list(model_q.parameters()) if p.requires_grad))\n",
        "model_all = BertModelAll()\n",
        "model_all.to(device)\n",
        "print(\"Trainable parameters:\", sum(p.numel() for p in model_all.parameters() if p.requires_grad))"
      ],
      "execution_count": null,
      "outputs": [
        {
          "output_type": "stream",
          "text": [
            "Using cache found in /root/.cache/torch/hub/huggingface_pytorch-transformers_master\n"
          ],
          "name": "stderr"
        },
        {
          "output_type": "display_data",
          "data": {
            "application/vnd.jupyter.widget-view+json": {
              "model_id": "962b4c42bdb64bdb8d513d5761e8a984",
              "version_minor": 0,
              "version_major": 2
            },
            "text/plain": [
              "HBox(children=(FloatProgress(value=0.0, description='Downloading', max=116270890.0, style=ProgressStyle(descri…"
            ]
          },
          "metadata": {
            "tags": []
          }
        },
        {
          "output_type": "stream",
          "text": [
            "\n",
            "Trainable parameters: 29814272\n"
          ],
          "name": "stdout"
        }
      ]
    },
    {
      "cell_type": "markdown",
      "metadata": {
        "id": "27Sn7g7DGzlo"
      },
      "source": [
        "# Dataloading and preparation for training loop\n",
        "Run this section to load model and dataloader"
      ]
    },
    {
      "cell_type": "code",
      "metadata": {
        "id": "7caXIOYxjvkL"
      },
      "source": [
        "size = 126\n",
        "stride = 32\n",
        "\n",
        "def overlap_and_pad(input_ids, size=128, stride=64):\n",
        "  extra = 0 if input_ids.size(0) < size else stride\n",
        "  return F.pad(input=input_ids, pad=(0, size-(input_ids.size(0) % stride)-extra), mode='constant', value=0).unfold(0,size,stride)\n",
        "\n",
        "def get_bm25_doc(sample):\n",
        "  docs = tokenizer(\" [SEP] \".join(sample['entity_pages']['wiki_context']), add_special_tokens=False, return_tensors='pt')['input_ids']\n",
        "  docs = overlap_and_pad(docs[0], size=size, stride=stride).numpy()\n",
        "  alias_query = tokenizer(sample['answer']['value'], add_special_tokens=False)['input_ids']\n",
        "  bm25 = BM25Okapi(docs)\n",
        "  doc_scores = bm25.get_scores(alias_query)\n",
        "  max_idx = np.argmax(doc_scores)\n",
        "  q = {}\n",
        "  p = {}\n",
        "  sample['q'] = tokenizer(sample['question'])['input_ids']\n",
        "  sample['p'] = [tokenizer.cls_token_id] + docs[max_idx].tolist() + [tokenizer.sep_token_id]\n",
        "  return sample"
      ],
      "execution_count": null,
      "outputs": []
    },
    {
      "cell_type": "code",
      "metadata": {
        "id": "6OC8wpA7jzkR"
      },
      "source": [
        "dataset = load_from_disk('trivia_qa_dataset_tok')\n",
        "\n",
        "#dataset = load_dataset(\"trivia_qa\", 'rc', split='test')\n",
        "#dataset.remove_columns_(['question_id', 'question_source', 'search_results'])\n",
        "#dataset = dataset.filter(lambda x: len(x['entity_pages']['wiki_context']) > 0 and len(x['question']) > 0)\n",
        "#dataset = dataset.map(get_bm25_doc)\n",
        "#dataset.save_to_disk('/gdrive/My Drive/Deep Learning/Eksamensprojekt/trivia_qa_dataset_tok')"
      ],
      "execution_count": null,
      "outputs": []
    },
    {
      "cell_type": "code",
      "metadata": {
        "colab": {
          "base_uri": "https://localhost:8080/"
        },
        "id": "ds9T_MFfVAgK",
        "outputId": "1287e9b0-a80c-432a-9dd1-393a3f19cd58"
      },
      "source": [
        "dataset"
      ],
      "execution_count": null,
      "outputs": [
        {
          "output_type": "execute_result",
          "data": {
            "text/plain": [
              "Dataset({\n",
              "    features: ['answer', 'entity_pages', 'p', 'q', 'question'],\n",
              "    num_rows: 125112\n",
              "})"
            ]
          },
          "metadata": {
            "tags": []
          },
          "execution_count": 9
        }
      ]
    },
    {
      "cell_type": "code",
      "metadata": {
        "id": "1wh3pxJGZD9i",
        "colab": {
          "base_uri": "https://localhost:8080/",
          "height": 197
        },
        "outputId": "54ffc061-11c9-40b5-eae1-e8af332825ee"
      },
      "source": [
        "#from multiprocessing import cpu_count\n",
        "def collate_fn(batch):\n",
        "  q = {}\n",
        "  q_special_tok = [torch.tensor(b['q']) for b in batch]\n",
        "  q['input_ids'] = pad_sequence([q_tok[None,:].T for q_tok in q_special_tok], batch_first=True)[:,:,0]\n",
        "  q['attention_mask'] = pad_sequence([torch.full_like(q_tok[None,:].T, 1) for q_tok in q_special_tok], batch_first=True)[:,:,0]\n",
        "  \n",
        "  p = {}\n",
        "  p_special_tok = [torch.tensor(b['p']) for b in batch]\n",
        "  p['input_ids'] = torch.stack(p_special_tok)\n",
        "  p['attention_mask'] = torch.full_like(p['input_ids'], 1)\n",
        "  return q, p\n",
        "\n",
        "testloader = torch.utils.data.DataLoader(dataset, shuffle=True, batch_size=64, collate_fn=collate_fn, num_workers=4, pin_memory=True)#, worker_init_fn=worker_init_fn"
      ],
      "execution_count": null,
      "outputs": [
        {
          "output_type": "error",
          "ename": "NameError",
          "evalue": "ignored",
          "traceback": [
            "\u001b[0;31m---------------------------------------------------------------------------\u001b[0m",
            "\u001b[0;31mNameError\u001b[0m                                 Traceback (most recent call last)",
            "\u001b[0;32m<ipython-input-8-00211eb269cb>\u001b[0m in \u001b[0;36m<module>\u001b[0;34m()\u001b[0m\n\u001b[1;32m     12\u001b[0m   \u001b[0;32mreturn\u001b[0m \u001b[0mq\u001b[0m\u001b[0;34m,\u001b[0m \u001b[0mp\u001b[0m\u001b[0;34m\u001b[0m\u001b[0;34m\u001b[0m\u001b[0m\n\u001b[1;32m     13\u001b[0m \u001b[0;34m\u001b[0m\u001b[0m\n\u001b[0;32m---> 14\u001b[0;31m \u001b[0mtestloader\u001b[0m \u001b[0;34m=\u001b[0m \u001b[0mtorch\u001b[0m\u001b[0;34m.\u001b[0m\u001b[0mutils\u001b[0m\u001b[0;34m.\u001b[0m\u001b[0mdata\u001b[0m\u001b[0;34m.\u001b[0m\u001b[0mDataLoader\u001b[0m\u001b[0;34m(\u001b[0m\u001b[0mdataset\u001b[0m\u001b[0;34m,\u001b[0m \u001b[0mshuffle\u001b[0m\u001b[0;34m=\u001b[0m\u001b[0;32mTrue\u001b[0m\u001b[0;34m,\u001b[0m \u001b[0mbatch_size\u001b[0m\u001b[0;34m=\u001b[0m\u001b[0;36m64\u001b[0m\u001b[0;34m,\u001b[0m \u001b[0mcollate_fn\u001b[0m\u001b[0;34m=\u001b[0m\u001b[0mcollate_fn\u001b[0m\u001b[0;34m,\u001b[0m \u001b[0mnum_workers\u001b[0m\u001b[0;34m=\u001b[0m\u001b[0;36m4\u001b[0m\u001b[0;34m,\u001b[0m \u001b[0mpin_memory\u001b[0m\u001b[0;34m=\u001b[0m\u001b[0;32mTrue\u001b[0m\u001b[0;34m)\u001b[0m\u001b[0;31m#, worker_init_fn=worker_init_fn\u001b[0m\u001b[0;34m\u001b[0m\u001b[0;34m\u001b[0m\u001b[0m\n\u001b[0m",
            "\u001b[0;31mNameError\u001b[0m: name 'dataset' is not defined"
          ]
        }
      ]
    },
    {
      "cell_type": "code",
      "metadata": {
        "id": "s6S0_569pvAE"
      },
      "source": [
        "def loss_fn(e_q, e_p):\n",
        "  #----------------v1.0----------------\n",
        "  matrix = -torch.nn.LogSoftmax(1)(torch.mm(e_q,e_p.T))\n",
        "  return torch.diag(matrix)\n",
        "\n",
        "# def loss_fn(e_q, e_p):\n",
        "#   #----------------v1.5----------------\n",
        "#   matrix = torch.mm(e_q,e_p.T)\n",
        "#   return -torch.diag(torch.nn.LogSoftmax(0)(matrix)), -torch.diag(torch.nn.LogSoftmax(1)(matrix))\n",
        "  #----------------v2.0----------------\n",
        "  #mask = torch.ones(matrix.shape, dtype=torch.bool).fill_diagonal_(0)\n",
        "  #neg_sims = matrix[mask].expand(matrix.shape[0],mask.sum())\n",
        "  #pos_sims = torch.diag(matrix)\n",
        "  #return -torch.nn.LogSoftmax(1)(torch.cat([pos_sims.unsqueeze(1),neg_sims],1))[:,0], -torch.diag(torch.nn.LogSoftmax(0)(matrix)), -torch.diag(torch.nn.LogSoftmax(1)(matrix))"
      ],
      "execution_count": null,
      "outputs": []
    },
    {
      "cell_type": "code",
      "metadata": {
        "id": "Q5GKZ-gEyty0"
      },
      "source": [
        "from transformers import AdamW\n",
        "from torch.cuda.amp.grad_scaler import GradScaler\n",
        "scaler = GradScaler()\n",
        "num_epochs = 20\n",
        "no_decay = ['bias', 'LayerNorm.weight']\n",
        "# optimizer_grouped_parameters = [{\n",
        "#     'params': [p for n, p in list(model_q.named_parameters()) + list(model_p.named_parameters()) if not any(nd in n for nd in no_decay)],\n",
        "#     'weight_decay': 0.01\n",
        "# }, {\n",
        "#     'params': [p for n, p in list(model_q.named_parameters()) + list(model_p.named_parameters()) if any(nd in n for nd in no_decay)],\n",
        "#     'weight_decay': 0.0,\n",
        "# }]\n",
        "optimizer_grouped_parameters = [{\n",
        "    'params': [p for n, p in model_all.named_parameters() if not any(nd in n for nd in no_decay)],\n",
        "    'weight_decay': 0.01\n",
        "}, {\n",
        "    'params': [p for n, p in model_all.named_parameters() if any(nd in n for nd in no_decay)],\n",
        "    'weight_decay': 0.0,\n",
        "}]\n",
        "optimizer = AdamW(optimizer_grouped_parameters, lr=5e-5, correct_bias=False) #, weight_decay=0.01\n",
        "epoch = 0\n",
        "losss = []"
      ],
      "execution_count": null,
      "outputs": []
    },
    {
      "cell_type": "markdown",
      "metadata": {
        "id": "AGabZx7vHCHM"
      },
      "source": [
        "# Load training checkpoint\n",
        "Run this section to load a model checkpoint"
      ]
    },
    {
      "cell_type": "code",
      "metadata": {
        "id": "M_seJabUUbOR",
        "colab": {
          "base_uri": "https://localhost:8080/"
        },
        "outputId": "46b84bb7-c0a0-4551-b2e2-443c79a18cb8"
      },
      "source": [
        "import pickle\n",
        "checkpoint = torch.load(f'/gdrive/My Drive/Deep Learning/Eksamensprojekt/{modelname}/{modelname}.chkpt')\n",
        "model_all.load_state_dict(checkpoint['all_state_dict'])\n",
        "#model_p.load_state_dict(checkpoint['p_state_dict'])\n",
        "#model_q.load_state_dict(checkpoint['q_state_dict'])\n",
        "#optimizer.load_state_dict(checkpoint['optimizer_state_dict'])\n",
        "#epoch = checkpoint['epoch']\n",
        "#with open(f\"/gdrive/My Drive/Deep Learning/Eksamensprojekt/losses/{modelname}_loss.p\",\"rb\") as f:\n",
        "#    losss = pickle.load(f)"
      ],
      "execution_count": null,
      "outputs": [
        {
          "output_type": "execute_result",
          "data": {
            "text/plain": [
              "<All keys matched successfully>"
            ]
          },
          "metadata": {
            "tags": []
          },
          "execution_count": 8
        }
      ]
    },
    {
      "cell_type": "markdown",
      "metadata": {
        "id": "Dj8hmtTEHFU_"
      },
      "source": [
        "# Training Loop\n",
        "Run this section to start training the loaded model"
      ]
    },
    {
      "cell_type": "code",
      "metadata": {
        "colab": {
          "base_uri": "https://localhost:8080/"
        },
        "id": "iCw0_FEawqqd",
        "outputId": "12a3bbc1-4bd8-4534-f5e3-96f9124e2091"
      },
      "source": [
        "from tqdm import tqdm\n",
        "import pickle\n",
        "while epoch < num_epochs:\n",
        "  #model_p.train()\n",
        "  #model_q.train()\n",
        "  model_all.train()\n",
        "  with tqdm(iter(testloader)) as tqdm_bar:\n",
        "    for q, p in tqdm_bar:\n",
        "      with autocast():\n",
        "        p['input_ids'] = p['input_ids'].to(device)\n",
        "        p['attention_mask'] = p['attention_mask'].to(device)\n",
        "        q['input_ids'] = q['input_ids'].to(device)\n",
        "        q['attention_mask'] = q['attention_mask'].to(device)\n",
        "        \n",
        "        # p_hid = model_p(p)\n",
        "        # q_hid = model_q(q)\n",
        "\n",
        "        q_hid, p_hid = model_all(q, p)\n",
        "        loss = loss_fn(q_hid, p_hid).mean()\n",
        "\n",
        "        optimizer.zero_grad()\n",
        "        scaler.scale(loss).backward()\n",
        "        scaler.step(optimizer)\n",
        "        scaler.update()\n",
        "      losss.append(loss.detach().cpu().numpy())\n",
        "      tqdm_bar.set_postfix_str(f\"Loss: {losss[-1]:.3f}\")\n",
        "      #tqdm_bar.set_postfix_str(f\"Loss: {losss[-1]:.3f}, loss_q: {loss_q.detach().mean().cpu().numpy():.3f}, loss_p: {loss_p.detach().mean().cpu().numpy():.3f}\")\n",
        "      #tqdm_bar.set_postfix_str(f\"Loss: {losss[-1]:.3f}, loss_all: {loss_all.detach().mean().cpu().numpy():.3f}, loss_q: {loss_q.detach().mean().cpu().numpy():.3f}, loss_p: {loss_p.detach().mean().cpu().numpy():.3f}\")\n",
        "  epoch += 1\n",
        "  torch.save({'epoch': epoch,'all_state_dict': model_all.state_dict()}, f'/gdrive/My Drive/Deep Learning/Eksamensprojekt/{modelname}.chkpt')\n",
        "  #torch.save({'epoch': epoch,'p_state_dict': model_p.state_dict(), 'q_state_dict': model_q.state_dict()}, f'/gdrive/My Drive/Deep Learning/Eksamensprojekt/{modelname}.chkpt') #,'optimizer_state_dict': optimizer.state_dict()}\n",
        "  with open(f\"/gdrive/My Drive/Deep Learning/Eksamensprojekt/losses/{modelname}_loss.p\",\"wb\") as f:\n",
        "    pickle.dump(losss, f)"
      ],
      "execution_count": null,
      "outputs": [
        {
          "output_type": "stream",
          "text": [
            "100%|██████████| 1955/1955 [06:51<00:00,  4.75it/s, Loss: 0.138]\n",
            "100%|██████████| 1955/1955 [06:51<00:00,  4.75it/s, Loss: 0.019]\n",
            "100%|██████████| 1955/1955 [06:51<00:00,  4.75it/s, Loss: 0.004]\n",
            "100%|██████████| 1955/1955 [06:51<00:00,  4.75it/s, Loss: 0.008]\n",
            "100%|██████████| 1955/1955 [06:51<00:00,  4.75it/s, Loss: 0.003]\n",
            "100%|██████████| 1955/1955 [06:52<00:00,  4.74it/s, Loss: 0.014]\n",
            "100%|██████████| 1955/1955 [06:51<00:00,  4.75it/s, Loss: 0.051]\n",
            "100%|██████████| 1955/1955 [06:51<00:00,  4.76it/s, Loss: 0.003]\n",
            "100%|██████████| 1955/1955 [06:51<00:00,  4.75it/s, Loss: 0.074]\n",
            "100%|██████████| 1955/1955 [06:52<00:00,  4.74it/s, Loss: 0.001]\n"
          ],
          "name": "stderr"
        }
      ]
    },
    {
      "cell_type": "code",
      "metadata": {
        "id": "iMO7d7vezo9A"
      },
      "source": [
        "def smooth(scalars, weight):\n",
        "\tlast = scalars[0]\n",
        "\tsmoothed = list()\n",
        "\tfor point in scalars:\n",
        "\t\tsmoothed_val = last * weight + (1 - weight) * point\n",
        "\t\tsmoothed.append(smoothed_val)\n",
        "\t\tlast = smoothed_val\n",
        "\treturn smoothed"
      ],
      "execution_count": null,
      "outputs": []
    },
    {
      "cell_type": "code",
      "metadata": {
        "colab": {
          "base_uri": "https://localhost:8080/",
          "height": 282
        },
        "id": "epzSGPOMPApv",
        "outputId": "3dcff584-0011-469e-ddca-60653e4c34d9"
      },
      "source": [
        "from matplotlib import pyplot as plt\n",
        "plt.plot(smooth(losss,0.99))"
      ],
      "execution_count": null,
      "outputs": [
        {
          "output_type": "execute_result",
          "data": {
            "text/plain": [
              "[<matplotlib.lines.Line2D at 0x7fb98243aba8>]"
            ]
          },
          "metadata": {
            "tags": []
          },
          "execution_count": 19
        },
        {
          "output_type": "display_data",
          "data": {
            "image/png": "[encoded data removed]",
            "text/plain": [
              "<Figure size 432x288 with 1 Axes>"
            ]
          },
          "metadata": {
            "tags": [],
            "needs_background": "light"
          }
        }
      ]
    },
    {
      "cell_type": "markdown",
      "metadata": {
        "id": "EpcGQnZaHIyd"
      },
      "source": [
        "# Build Faiss Index"
      ]
    },
    {
      "cell_type": "code",
      "metadata": {
        "id": "-KmGd048Rtz7"
      },
      "source": [
        "import faiss\n",
        "faiss_index_name = \"IDMap,Flat\"\n",
        "#res = faiss.StandardGpuResources()\n",
        "index = faiss.index_factory(512, faiss_index_name, faiss.METRIC_INNER_PRODUCT)\n",
        "#gpu_index = faiss.index_cpu_to_gpu(res, 0, index)\n",
        "\n",
        "#index = faiss.IndexHNSWFlat(128, 256, faiss.METRIC_INNER_PRODUCT) #512, 256, 128\n",
        "#index.hnsw.efConstruction = 256\n",
        "#index.hnsw.efSearch = 128\n",
        "#index = faiss.IndexIDMap(index)"
      ],
      "execution_count": null,
      "outputs": []
    },
    {
      "cell_type": "code",
      "metadata": {
        "id": "fu6xndHqklnr"
      },
      "source": [
        "doc_to_idx = dict()\n",
        "idx_to_doc = dict()\n",
        "doc_idx = 0"
      ],
      "execution_count": null,
      "outputs": []
    },
    {
      "cell_type": "code",
      "metadata": {
        "colab": {
          "base_uri": "https://localhost:8080/",
          "height": 335,
          "referenced_widgets": [
            "3b6f63d3480b44bfa9c55b169d204242",
            "00ab071ed21f4345904f44e37b296137",
            "20f0ac5990b944de991b943464e6edcb",
            "4b12683ebada49498e976035ece53911",
            "a9ead911f1724b4f99adfd46aa639c4e",
            "325740a2018448a59026c50762546973",
            "48f1e27a49c045ec82abfc623654dd7d",
            "ec9983a6b5ae41ae92e57de25e9f2b69",
            "046c7b21f1664be293dd3d23a589a439",
            "bbdba2025b664474b216b13eeb31bf89",
            "389636327b084a7c8bb8883d76331a1b",
            "8ddcffeee44c4b5481ce5965eec88401",
            "18d2601322454a8da17e67cb193cf18b",
            "ce52befb99114035bfea039f834acc1c",
            "a32259577e8847fa9908c3bb00f15c1d",
            "c7164420070443749f98aa831295c01b",
            "5d48453744ec4926b83848587ad44de5",
            "d14ddbfed4cc443a9e6825db56f7f1fa",
            "0536a993e8184eea8358de0d1c4df747",
            "db798d823546447c99d62a3e7ceffbf0",
            "82956a6a74fd4231a2ae6e3279311a88",
            "0cb0c281d3d34b188834e49980dc565f",
            "bbfcddc52d28440484f5001bdb08482a",
            "ce1861273be54cd4ac76a144620ba5cb",
            "a79afb4570a54dcba17ae800aa5d1830",
            "c282abc9d53f40de85a6231faae4fb91",
            "1e031fd2d937408484507e21044d648a",
            "5ba79067917946c0a7a25cb6a83bfb8c",
            "7b869645687e4db5a204a1cfddfd6c3d",
            "a0b335aa890a46069f9ca1dcc5a02f01",
            "aed4ea8dbad84cf4a4f1a630ccb76e18",
            "dca80c3f8cf940e28496f1f3db4a93e4",
            "06404f49dfc04e928240423e19991925",
            "3b4bbbabb6624dc8af654262cfc1632a",
            "83ec047e67a947668d2514c18b0ca284",
            "87da07587a774230b9eefe352f7c7eeb",
            "f5c6dbedf9574194b57f77ec0c1a9cd8",
            "b3b5b7568a404504a8d2637dbacc4cb3",
            "6260f101e27544b5ad8101cb5bb509d4",
            "4a11ae3a7ebd4a67b955119e43415b57",
            "89f86cd058114eefac43218b344aa055",
            "0f98070480c446028f6f4e90e76bbbcf",
            "848a6dac38a5466bb9757bc0104f42ab",
            "acb5c6d4c37c4ff2b8226970a2fb252c",
            "344ad39176e041b08ef5470ab9789f89",
            "970a2c8b685f4435abe893fa9d05ae77",
            "f58e1250a7044203b0d7530b9c8ac0fc",
            "ffa196fded2d41669be7c47591e7e6ba",
            "b6b191bc14d246ac976ca769b7a04e83",
            "9c702d20da6d4ec7b2ec5e401921c20d",
            "b15f77863b474851861b66f0fdd23c54",
            "6bdf086ff5054489aa8423d47bef8d38",
            "c225181145f147208bc0c0021c9b87ff",
            "ea3617cc1a3e4cb0bfc18985598a6a9f",
            "3370409d7c86410693692ab91fc2e92b",
            "1ffa7ad30e614571871e6ce788af3554"
          ]
        },
        "id": "w9Wk37l3y_ML",
        "outputId": "208318ee-65c0-40b5-ea22-200284fd9954"
      },
      "source": [
        "from tqdm import tqdm\n",
        "from time import time\n",
        "#model_p.eval()\n",
        "model_all.eval()\n",
        "def add_faiss_index(batch):\n",
        "  global doc_idx\n",
        "  p_hids = []\n",
        "  idxs = []\n",
        "  for entity_page in batch['entity_pages']:\n",
        "    for title, page in zip(entity_page['title'], entity_page['wiki_context']):\n",
        "      if len(title) > 0 and len(page) > 0 and not title in doc_to_idx.keys():\n",
        "        with torch.no_grad(), autocast():\n",
        "          encoded_wiki = tokenizer(page, add_special_tokens=False, return_tensors='pt', return_token_type_ids=False)\n",
        "          encoded_wiki = {k:overlap_and_pad(v[0], size=size, stride=stride).to(device) for k, v in encoded_wiki.items()}\n",
        "          encoded_wiki = {k:torch.cat([\n",
        "                                      torch.full((v.size(0),1), tokenizer.cls_token_id if k == 'input_ids' else 1, device=device, dtype=torch.int64), \n",
        "                                      v, \n",
        "                                      torch.full((v.size(0),1), tokenizer.sep_token_id if k == 'input_ids' else 1, device=device, dtype=torch.int64)\n",
        "                                      ],1) for k, v in encoded_wiki.items()}\n",
        "          encoded_wiki = {k:v.split(128) for k, v in encoded_wiki.items()}\n",
        "          for input_ids, attention_mask in zip(*encoded_wiki.values()):\n",
        "            p_hid = model_all.embed_p({'input_ids': input_ids, 'attention_mask': attention_mask}).float().cpu().numpy()\n",
        "            #p_hid = model_p({'input_ids': input_ids, 'attention_mask': attention_mask}).float().cpu().numpy()\n",
        "            p_hids.append(p_hid)\n",
        "            idxs.append(np.full(p_hid.shape[0],doc_idx))\n",
        "          doc_to_idx[title] = doc_idx\n",
        "          idx_to_doc[doc_idx] = title\n",
        "          doc_idx += 1\n",
        "  if len(p_hids) > 0:\n",
        "    index.add_with_ids(np.concatenate(p_hids,0), np.concatenate(idxs,0))\n",
        "\n",
        "dataset_test = load_dataset(\"trivia_qa\", 'rc', split='test')\n",
        "dataset_test.map(add_faiss_index, new_fingerprint='uvutfkuyfkyf', batched=True, batch_size=16)"
      ],
      "execution_count": null,
      "outputs": [
        {
          "output_type": "display_data",
          "data": {
            "application/vnd.jupyter.widget-view+json": {
              "model_id": "3b6f63d3480b44bfa9c55b169d204242",
              "version_minor": 0,
              "version_major": 2
            },
            "text/plain": [
              "HBox(children=(FloatProgress(value=0.0, description='Downloading', max=3435.0, style=ProgressStyle(description…"
            ]
          },
          "metadata": {
            "tags": []
          }
        },
        {
          "output_type": "stream",
          "text": [
            "\n"
          ],
          "name": "stdout"
        },
        {
          "output_type": "display_data",
          "data": {
            "application/vnd.jupyter.widget-view+json": {
              "model_id": "046c7b21f1664be293dd3d23a589a439",
              "version_minor": 0,
              "version_major": 2
            },
            "text/plain": [
              "HBox(children=(FloatProgress(value=0.0, description='Downloading', max=1408.0, style=ProgressStyle(description…"
            ]
          },
          "metadata": {
            "tags": []
          }
        },
        {
          "output_type": "stream",
          "text": [
            "\n",
            "Downloading and preparing dataset trivia_qa/rc (download: 2.48 GiB, generated: 14.92 GiB, post-processed: Unknown size, total: 17.40 GiB) to /root/.cache/huggingface/datasets/trivia_qa/rc/1.1.0/e734e28133f4d9a353af322aa52b9f266f6f27cbf2f072690a1694e577546b0d...\n"
          ],
          "name": "stdout"
        },
        {
          "output_type": "display_data",
          "data": {
            "application/vnd.jupyter.widget-view+json": {
              "model_id": "5d48453744ec4926b83848587ad44de5",
              "version_minor": 0,
              "version_major": 2
            },
            "text/plain": [
              "HBox(children=(FloatProgress(value=0.0, description='Downloading', max=2665779500.0, style=ProgressStyle(descr…"
            ]
          },
          "metadata": {
            "tags": []
          }
        },
        {
          "output_type": "stream",
          "text": [
            "\n"
          ],
          "name": "stdout"
        },
        {
          "output_type": "display_data",
          "data": {
            "application/vnd.jupyter.widget-view+json": {
              "model_id": "a79afb4570a54dcba17ae800aa5d1830",
              "version_minor": 0,
              "version_major": 2
            },
            "text/plain": [
              "HBox(children=(FloatProgress(value=1.0, bar_style='info', max=1.0), HTML(value='')))"
            ]
          },
          "metadata": {
            "tags": []
          }
        },
        {
          "output_type": "stream",
          "text": [
            "\r"
          ],
          "name": "stdout"
        },
        {
          "output_type": "display_data",
          "data": {
            "application/vnd.jupyter.widget-view+json": {
              "model_id": "06404f49dfc04e928240423e19991925",
              "version_minor": 0,
              "version_major": 2
            },
            "text/plain": [
              "HBox(children=(FloatProgress(value=1.0, bar_style='info', max=1.0), HTML(value='')))"
            ]
          },
          "metadata": {
            "tags": []
          }
        },
        {
          "output_type": "stream",
          "text": [
            "\r"
          ],
          "name": "stdout"
        },
        {
          "output_type": "display_data",
          "data": {
            "application/vnd.jupyter.widget-view+json": {
              "model_id": "89f86cd058114eefac43218b344aa055",
              "version_minor": 0,
              "version_major": 2
            },
            "text/plain": [
              "HBox(children=(FloatProgress(value=1.0, bar_style='info', max=1.0), HTML(value='')))"
            ]
          },
          "metadata": {
            "tags": []
          }
        },
        {
          "output_type": "stream",
          "text": [
            "\rDataset trivia_qa downloaded and prepared to /root/.cache/huggingface/datasets/trivia_qa/rc/1.1.0/e734e28133f4d9a353af322aa52b9f266f6f27cbf2f072690a1694e577546b0d. Subsequent calls will reuse this data.\n"
          ],
          "name": "stdout"
        },
        {
          "output_type": "display_data",
          "data": {
            "application/vnd.jupyter.widget-view+json": {
              "model_id": "b6b191bc14d246ac976ca769b7a04e83",
              "version_minor": 0,
              "version_major": 2
            },
            "text/plain": [
              "HBox(children=(FloatProgress(value=0.0, max=1076.0), HTML(value='')))"
            ]
          },
          "metadata": {
            "tags": []
          }
        },
        {
          "output_type": "stream",
          "text": [
            "\n"
          ],
          "name": "stdout"
        },
        {
          "output_type": "execute_result",
          "data": {
            "text/plain": [
              "Dataset({\n",
              "    features: ['question', 'question_id', 'question_source', 'entity_pages', 'search_results', 'answer'],\n",
              "    num_rows: 17210\n",
              "})"
            ]
          },
          "metadata": {
            "tags": []
          },
          "execution_count": 15
        }
      ]
    },
    {
      "cell_type": "code",
      "metadata": {
        "colab": {
          "base_uri": "https://localhost:8080/",
          "height": 134,
          "referenced_widgets": [
            "ce408fc2934343949cf66d9abafa2ecf",
            "ef68d9ad08004c07946edc297c91f876",
            "ce61be7766d14e318a6c56775b7597d5",
            "2d79f4ce31a542dd99c67e060f3df701",
            "f9f308c1a9224237b06878e8d6d05495",
            "87b1153b62bc4cf08aaa0e248fdbffcc",
            "0b7544afe4124be09b930f228534784b",
            "cb3d34b8ee7545b994bcd40dff51353a"
          ]
        },
        "id": "kHJl5dnUjqka",
        "outputId": "d92ac378-0ffb-4a65-fc17-1a3309a1f911"
      },
      "source": [
        "top_100_c_pred = []\n",
        "model_all.eval()\n",
        "#model_q.eval()\n",
        "def search_faiss_index(batch):\n",
        "  global top_100_c_pred\n",
        "  used_questions = [question for entity_page, question in zip(batch['entity_pages'], batch['question']) if len(entity_page['wiki_context']) > 0 and len(entity_page['title']) > 0]\n",
        "  used_idxs = [[doc_to_idx[title] for title in entity_page['title']] for entity_page in batch['entity_pages'] if len(entity_page['wiki_context']) > 0 and len(entity_page['title']) > 0]\n",
        "  quest_embeds = []\n",
        "  with torch.no_grad(), autocast():\n",
        "    quest = tokenizer(used_questions, return_tensors='pt', padding=True, return_token_type_ids=False)\n",
        "    quest = {k:v.to(device) for k, v in quest.items()}\n",
        "    quest = {k:v.split(128) for k, v in quest.items()}\n",
        "    for input_ids, attention_mask in zip(*quest.values()):\n",
        "      quest_s = {'input_ids': input_ids, 'attention_mask': attention_mask}\n",
        "      #quest_embeds.append(model_q(quest_s).float().cpu().numpy())\n",
        "      quest_embeds.append(model_all.embed_q(quest_s).float().cpu().numpy())\n",
        "    top_100_pred = index.search(np.concatenate(quest_embeds, 0), 100)[1]\n",
        "  for pred, true_idxs in zip(top_100_pred, used_idxs):\n",
        "    top_100_c_pred.append(np.isin(pred, true_idxs))\n",
        "\n",
        "dataset_test.map(search_faiss_index, new_fingerprint='rtvgbtiy65vb', batched=True, batch_size=64)"
      ],
      "execution_count": null,
      "outputs": [
        {
          "output_type": "display_data",
          "data": {
            "application/vnd.jupyter.widget-view+json": {
              "model_id": "ce408fc2934343949cf66d9abafa2ecf",
              "version_minor": 0,
              "version_major": 2
            },
            "text/plain": [
              "HBox(children=(FloatProgress(value=0.0, max=269.0), HTML(value='')))"
            ]
          },
          "metadata": {
            "tags": []
          }
        },
        {
          "output_type": "stream",
          "text": [
            "\n"
          ],
          "name": "stdout"
        },
        {
          "output_type": "execute_result",
          "data": {
            "text/plain": [
              "Dataset({\n",
              "    features: ['question', 'question_id', 'question_source', 'entity_pages', 'search_results', 'answer'],\n",
              "    num_rows: 17210\n",
              "})"
            ]
          },
          "metadata": {
            "tags": []
          },
          "execution_count": 18
        }
      ]
    },
    {
      "cell_type": "code",
      "metadata": {
        "id": "Dm0G569i5dgS"
      },
      "source": [
        "top_100_c_pred_arr = np.array(top_100_c_pred)"
      ],
      "execution_count": null,
      "outputs": []
    },
    {
      "cell_type": "code",
      "metadata": {
        "id": "eGcmuXg5lZoR"
      },
      "source": [
        "np.savez(f'/gdrive/My Drive/Deep Learning/Eksamensprojekt/{modelname}_top_100_c_pred.npz', top_100_c_pred_arr)"
      ],
      "execution_count": null,
      "outputs": []
    },
    {
      "cell_type": "code",
      "metadata": {
        "id": "2hSH5eMM4o51"
      },
      "source": [
        "correct_doc_in_top_k = (top_100_c_pred_arr.cumsum(1) > 0).sum(0)/top_100_c_pred_arr.shape[0]"
      ],
      "execution_count": null,
      "outputs": []
    },
    {
      "cell_type": "code",
      "metadata": {
        "colab": {
          "base_uri": "https://localhost:8080/"
        },
        "id": "lB0G9sOVCVKB",
        "outputId": "d89f457d-0478-46be-947c-33006351ebfe"
      },
      "source": [
        "correct_doc_in_top_k"
      ],
      "execution_count": null,
      "outputs": [
        {
          "output_type": "execute_result",
          "data": {
            "text/plain": [
              "array([0.5313646 , 0.61751271, 0.66480087, 0.69806344, 0.72180403,\n",
              "       0.73904652, 0.75326514, 0.76458856, 0.77391752, 0.78170237,\n",
              "       0.79000193, 0.79791546, 0.80364151, 0.80878852, 0.81457891,\n",
              "       0.81895387, 0.82197774, 0.82513028, 0.82956958, 0.83201441,\n",
              "       0.83490961, 0.83767612, 0.83999228, 0.84333784, 0.84513929,\n",
              "       0.84764846, 0.85009329, 0.85324583, 0.85453259, 0.85639838,\n",
              "       0.85774947, 0.85877887, 0.86083768, 0.86244612, 0.86405456,\n",
              "       0.86643505, 0.8672071 , 0.86855819, 0.8695876 , 0.87119604,\n",
              "       0.87254713, 0.87389822, 0.87499196, 0.87615004, 0.87705076,\n",
              "       0.87820884, 0.87968861, 0.8810397 , 0.88181175, 0.88251946,\n",
              "       0.88322718, 0.8846426 , 0.88541466, 0.88605803, 0.88663707,\n",
              "       0.88740912, 0.88863154, 0.88940359, 0.89075468, 0.89165541,\n",
              "       0.89217011, 0.89255613, 0.89294216, 0.89345686, 0.89442193,\n",
              "       0.89519398, 0.89615904, 0.89648073, 0.89699543, 0.89776748,\n",
              "       0.89866821, 0.89905424, 0.89931159, 0.89976195, 0.90027665,\n",
              "       0.90059834, 0.9015634 , 0.90214244, 0.90278582, 0.90375088,\n",
              "       0.90407257, 0.90458727, 0.90503764, 0.90529499, 0.90574535,\n",
              "       0.90645307, 0.90696777, 0.90786849, 0.90825452, 0.90864055,\n",
              "       0.90915525, 0.90954127, 0.90973429, 0.9099273 , 0.91069935,\n",
              "       0.91114971, 0.9114714 , 0.91185743, 0.91224345, 0.91295117])"
            ]
          },
          "metadata": {
            "tags": []
          },
          "execution_count": 22
        }
      ]
    },
    {
      "cell_type": "code",
      "metadata": {
        "colab": {
          "base_uri": "https://localhost:8080/",
          "height": 296
        },
        "id": "zDsd9ZnHO36i",
        "outputId": "0dcb6014-0119-4cc5-eb79-5acaad28a6fd"
      },
      "source": [
        "from matplotlib import pyplot as plt\n",
        "plt.plot(np.arange(1,len(correct_doc_in_top_k)+1),correct_doc_in_top_k*100)\n",
        "plt.xlabel(\"k: number of retrieved documents\")\n",
        "plt.ylabel(\"Retrieved correct document in top-k (%)\")"
      ],
      "execution_count": null,
      "outputs": [
        {
          "output_type": "execute_result",
          "data": {
            "text/plain": [
              "Text(0, 0.5, 'Retrieved correct document in top-k (%)')"
            ]
          },
          "metadata": {
            "tags": []
          },
          "execution_count": 23
        },
        {
          "output_type": "display_data",
          "data": {
            "image/png": "[encoded data removed]",
            "text/plain": [
              "<Figure size 432x288 with 1 Axes>"
            ]
          },
          "metadata": {
            "tags": [],
            "needs_background": "light"
          }
        }
      ]
    },
    {
      "cell_type": "code",
      "metadata": {
        "id": "KVmDtwlDsD9l"
      },
      "source": [
        "#index = faiss.index_gpu_to_cpu(gpu_index)\n",
        "faiss.write_index(index, f'/gdrive/My Drive/Deep Learning/Eksamensprojekt/{faiss_index_name.replace(\",\",\"_\")}_{modelname}.index')"
      ],
      "execution_count": null,
      "outputs": []
    },
    {
      "cell_type": "code",
      "metadata": {
        "id": "CAbnYuWq3REW"
      },
      "source": [
        "#index = faiss.read_index(f'/gdrive/My Drive/Deep Learning/Eksamensprojekt/{modelname}/{faiss_index_name.replace(\",\",\"_\")}_{modelname}.index')"
      ],
      "execution_count": null,
      "outputs": []
    },
    {
      "cell_type": "markdown",
      "metadata": {
        "id": "Vuijm1Z_HMdY"
      },
      "source": [
        "# Inference"
      ]
    },
    {
      "cell_type": "code",
      "metadata": {
        "id": "m6L5b0rN1LsN"
      },
      "source": [
        "def get_doc_from_idx(idx):\n",
        "  found_doc = False\n",
        "  doc = None\n",
        "  for s in dataset_test:\n",
        "    for doc,t in zip(s['entity_pages']['wiki_context'],s['entity_pages']['title']):\n",
        "      if t == idx_to_doc[idx]:\n",
        "        found_doc = True\n",
        "        break\n",
        "    if found_doc:\n",
        "      break\n",
        "  return doc\n"
      ],
      "execution_count": null,
      "outputs": []
    },
    {
      "cell_type": "code",
      "metadata": {
        "id": "n-k4w6Up1UFn",
        "colab": {
          "base_uri": "https://localhost:8080/"
        },
        "outputId": "7a9ead16-c010-43ae-dcfb-4d7abbc0f509"
      },
      "source": [
        "question = 'When did World War I end?'\n",
        "#model_q.eval()\n",
        "#model_p.eval()\n",
        "model_all.eval()\n",
        "with torch.no_grad():\n",
        "  quest = {k:v.to(device) for k, v in tokenizer(question, return_tensors='pt', padding=True).items()}\n",
        "  quest_embed = model_all.embed_q(quest)\n",
        "  #quest_embed = model_q(quest)\n",
        "  top_docs = index.search(quest_embed.cpu().numpy(), 10)[1][0]\n",
        "  for i, doc_idx in enumerate(top_docs):\n",
        "    doc = get_doc_from_idx(doc_idx)\n",
        "    top_k_idx = (top_docs == doc_idx).cumsum()[i]\n",
        "    encoded_wiki = tokenizer(doc, add_special_tokens=False, return_tensors='pt', return_token_type_ids=False)\n",
        "    encoded_wiki = {k:overlap_and_pad(v[0], size=size, stride=stride).to(device) for k, v in encoded_wiki.items()}\n",
        "    encoded_wiki = {k:torch.cat([\n",
        "                                torch.full((v.size(0),1), tokenizer.cls_token_id if k == 'input_ids' else 1, device=device, dtype=torch.int64), \n",
        "                                v, \n",
        "                                torch.full((v.size(0),1), tokenizer.sep_token_id if k == 'input_ids' else 1, device=device, dtype=torch.int64)\n",
        "                                ],1) for k, v in encoded_wiki.items()}\n",
        "    #p_hids = model_p(encoded_wiki)\n",
        "    p_hids = model_all.embed_p(encoded_wiki)\n",
        "    print(idx_to_doc[doc_idx], tokenizer.decode(encoded_wiki['input_ids'][torch.topk(torch.mm(p_hids,quest_embed.T).squeeze(),top_k_idx,0)[1][-1].cpu().numpy().item()]))"
      ],
      "execution_count": null,
      "outputs": [
        {
          "output_type": "stream",
          "text": [
            "World War I [CLS] \" their aggression. in the treaty of versailles, this statement was article 231. this article became known as war guilt clause as the majority of germans felt humiliated and resentful. overall the germans felt they had been unjustly dealt by what they called the \" diktat of versailles. \" schulze says, the treaty placed germany, \" under legal sanctions, deprived of military power, economically ruined, and politically humiliated. \" belgian historian laurence van ypersele emphasizes the central role played by memory of the war and the versailles treaty in german politics in the 1920s and 1930s : active denial of war guilt in germany and [SEP]\n",
            "War [CLS] and other items of cultural significance is neither random nor irrelevant. preserving the world ’ s repositories of knowledge is crucial to ensuring that the darkest moments of history don't endlessly repeat themselves. \" aims entities deliberately contemplating going to war and entities considering whether to end a war may formulate war aims as an evaluation / propaganda tool. war aims may stand as a proxy for national - military resolve. definition fried defines war aims as \" the desired territorial, economic, military or other benefits expected following successful conclusion of a war \". classification tangible / intangible aims : * tangible war aims may involve ( for example ) the [SEP]\n",
            "Declaration of war [CLS] world war, so the united nations ( un ) was established following that war in a renewed attempt to prevent international aggression through declarations of war. denigration of formal declarations of war before wwii in classical times, thucydides condemned the thebans, allies of sparta, for launching a surprise attack without a declaration of war against plataea, athens'ally – an event that touched off the peloponnesian war. the utility of formal declarations of war has always been questioned, either as sentimental remnants of a long - gone age of chivalry or as imprudent warnings to the enemy. for [SEP]\n",
            "World War I [CLS] with the aim of preventing any repetition of such a conflict. this effort failed, and economic depression, renewed european nationalism, weakened member states, and the german feeling of humiliation contributed to the rise of nazism. these conditions eventually contributed to world war ii. names from the time of its start until the approach of world war ii, the first world war was called simply the world war or the great war and thereafter the first world war or world war i. at the time, it was also sometimes called \" the war to end war \" or \" the war to end all wars \" due to its then - unparalleled scale [SEP]\n",
            "League of Nations [CLS] deaths. by the time the fighting ended in november 1918, the war had had a profound impact, affecting the social, political and economic systems of europe and inflicting psychological and physical damage. anti - war sentiment rose across the world ; the first world war was described as \" the war to end all wars \", and its possible causes were vigorously investigated. the causes identified included arms races, alliances, militaristic nationalism, secret diplomacy, and the freedom of sovereign states to enter into war for their own benefit. one proposed remedy was the creation of an international organisation whose aim was to prevent future war through disarmament [SEP]\n",
            "War [CLS] steven pinker. in 2013 war resulted in 31, 000 deaths, down from 72, 000 deaths in 1990. in 2003, richard smalley identified war as the sixth ( of ten ) biggest problem facing humanity for the next fifty years. war usually results in significant deterioration of infrastructure and the ecosystem, a decrease in social spending, famine, large - scale emigration from the war zone, and often the mistreatment of prisoners of war or civilians. another byproduct of some wars is the prevalence of propaganda by some or all parties in the conflict, and increased revenues by weapons manufacturers. etymology the english word war derives from [SEP]\n",
            "War [CLS] / propaganda tool. war aims may stand as a proxy for national - military resolve. definition fried defines war aims as \" the desired territorial, economic, military or other benefits expected following successful conclusion of a war \". classification tangible / intangible aims : * tangible war aims may involve ( for example ) the acquisition of territory ( as in the german goal of lebensraum in the first half of the 20th century ) or the recognition of economic concessions ( as in the anglo - dutch wars ). * intangible war aims - like the accumulation of credibility or reputation - may have more tangible expression ( \" conquest restore [SEP]\n",
            "Christmas truce [CLS] what he calls the'live and let live system.'complicated local truces and agreements not to fire at each other were developed by men along the front throughout the war. these often began with agreement not to attack each other at tea, meal or washing times, and in some places became so developed that whole sections of the front would see few casualties for extended periods of time. this system, ashworth argues,'gave soldiers some control over the conditions of their existence.'the december 1914 christmas truces then can be seen as not unique, but as the most dramatic example of non - cooperation with the war spirit that included [SEP]\n",
            "War [CLS] anglo - dutch wars ). * intangible war aims - like the accumulation of credibility or reputation - may have more tangible expression ( \" conquest restores prestige, annexation increases power \" ). explicit / implicit aims : * explicit war aims may involve published policy decisions. * implicit war aims can take the form of minutes of discussion, memoranda and instructions. positive / negative aims : * \" positive war aims \" cover tangible outcomes. * \" negative war aims \" forestall or prevent undesired outcomes. war aims can change in the course of conflict and may eventually morph into \" peace conditions \" - the minimal conditions [SEP]\n",
            "David Lloyd George [CLS] he \" wanted to take advantage of caporetto to gain \" control of the war \". the supreme war council was inaugurated at the rapallo conference ( 6 – 7 november 1917 ). lloyd george then gave a controversial speech at paris ( 12 november ) at which he criticised the high casualties of recent allied \" victories \" ( a word which he used with an element of sarcasm ). these events led to an angry commons debate ( 19 november ), which lloyd george survived. in reply to robertson's 19 november memo, which warned ( correctly ) that the germans would use the opportunity of russia's departure from the war [SEP]\n"
          ],
          "name": "stdout"
        }
      ]
    },
    {
      "cell_type": "markdown",
      "metadata": {
        "id": "Pb9VYph0wLIU"
      },
      "source": [
        "# Reader-like inference"
      ]
    },
    {
      "cell_type": "code",
      "metadata": {
        "colab": {
          "base_uri": "https://localhost:8080/"
        },
        "id": "kgTQlJUNwNuL",
        "outputId": "ffecad90-2edc-46ff-a42f-37d2b10f3eb5"
      },
      "source": [
        "question = 'When did world war I end?'\n",
        "passage_embeds = []\n",
        "passage_tokens = []\n",
        "model_all.eval()\n",
        "with torch.no_grad():\n",
        "  quest = {k:v.to(device) for k, v in tokenizer(question, return_tensors='pt', padding=True).items()}\n",
        "  quest_embed = model_all.embed_q(quest)\n",
        "  top_doc = index.search(quest_embed.cpu().numpy(), 1)[1][0][0]\n",
        "  doc = get_doc_from_idx(top_doc)\n",
        "  for pas_len, pas_stride in tqdm(zip([1]+[i for i in range(2,32)],[1]+[i-1 for i in range(2,32)])):\n",
        "    encoded_wiki = tokenizer(doc, add_special_tokens=False, return_tensors='pt', return_token_type_ids=False)\n",
        "    encoded_wiki = {k:overlap_and_pad(v[0], size=pas_len, stride=pas_stride).to(device) for k, v in encoded_wiki.items()}\n",
        "    encoded_wiki = {k:torch.cat([\n",
        "                                torch.full((v.size(0),1), tokenizer.cls_token_id if k == 'input_ids' else 1, device=device, dtype=torch.int64), \n",
        "                                v, \n",
        "                                torch.full((v.size(0),1), tokenizer.sep_token_id if k == 'input_ids' else 1, device=device, dtype=torch.int64)\n",
        "                                ],1) for k, v in encoded_wiki.items()}\n",
        "    encoded_wiki = {k:v.split(512) for k, v in encoded_wiki.items()}\n",
        "    for input_ids, attention_mask in zip(*encoded_wiki.values()):\n",
        "      encoded_wiki_s = {'input_ids': input_ids, 'attention_mask': attention_mask}\n",
        "      #quest_embeds.append(model_q(quest_s).float().cpu().numpy())\n",
        "      passage_embeds.append(model_all.embed_p(encoded_wiki_s).float().cpu())\n",
        "      for pas in input_ids.cpu():\n",
        "        passage_tokens.append(pas)\n",
        "passage_embeds = torch.cat(passage_embeds, 0)\n",
        "topk = torch.topk(torch.matmul(passage_embeds,quest_embed.cpu().T).squeeze(),10)\n",
        "for v, i in zip(topk.values.softmax(0),topk.indices):\n",
        "  print(f\"Prob: {v.item()*100:.2f}%, sentence: {tokenizer.decode(passage_tokens[i][1:-1])}\")"
      ],
      "execution_count": null,
      "outputs": [
        {
          "output_type": "stream",
          "text": [
            "31it [00:13,  2.25it/s]"
          ],
          "name": "stderr"
        },
        {
          "output_type": "stream",
          "text": [
            "Prob: 17.62%, sentence: end of world war\n",
            "Prob: 14.15%, sentence: the war prevented\n",
            "Prob: 10.53%, sentence: that resulted from world war i. before the end of\n",
            "Prob: 8.56%, sentence: end the war\n",
            "Prob: 8.50%, sentence: similarly affected. formal end of the war\n",
            "Prob: 8.48%, sentence: end of the war\n",
            "Prob: 8.40%, sentence: from world war i. before the end of the\n",
            "Prob: 8.04%, sentence: end to the war\n",
            "Prob: 8.01%, sentence: similarly affected. formal end of the war a\n",
            "Prob: 7.71%, sentence: a result of world war\n"
          ],
          "name": "stdout"
        },
        {
          "output_type": "stream",
          "text": [
            "\n"
          ],
          "name": "stderr"
        }
      ]
    },
    {
      "cell_type": "markdown",
      "metadata": {
        "id": "A6D4DEgGHPJI"
      },
      "source": [
        "# Plot results"
      ]
    },
    {
      "cell_type": "code",
      "metadata": {
        "id": "pmQuA7oUqawO"
      },
      "source": [
        "from glob import glob\n",
        "from matplotlib import pyplot as plt\n",
        "import numpy as np\n",
        "import os.path\n",
        "import pickle"
      ],
      "execution_count": null,
      "outputs": []
    },
    {
      "cell_type": "code",
      "metadata": {
        "colab": {
          "base_uri": "https://localhost:8080/",
          "height": 718
        },
        "id": "hN92LpAqQTng",
        "outputId": "17b891af-b156-4b15-89e2-2cac69f483ea"
      },
      "source": [
        "plt.figure(figsize=(6.3,4), dpi=180)\n",
        "legend = []\n",
        "for f in glob('/gdrive/My Drive/Deep Learning/Eksamensprojekt/*/*.npz'):\n",
        "  top_100_c_pred_arr = np.load(f)['arr_0']\n",
        "  correct_doc_in_top_k = (top_100_c_pred_arr.cumsum(1) > 0).sum(0)/top_100_c_pred_arr.shape[0]\n",
        "  legend.append(os.path.dirname(f).split(\"/\")[-1].replace('-all','-shared'))\n",
        "  plt.plot(np.arange(1,len(correct_doc_in_top_k)+1),correct_doc_in_top_k*100, linewidth=0.8)\n",
        "plt.xlabel(\"k: number of retrieved documents\")\n",
        "plt.ylabel(\"Retrieved correct document in top-k (%)\")\n",
        "plt.legend(legend)\n",
        "plt.tight_layout()\n",
        "plt.savefig(f'/gdrive/My Drive/Deep Learning/Eksamensprojekt/accuracies.pdf',format=\"pdf\",bbox_inches='tight',pad_inches=0)\n",
        "plt.savefig(f'/gdrive/My Drive/Deep Learning/Eksamensprojekt/accuracies.png',format=\"png\",bbox_inches='tight',pad_inches=0)"
      ],
      "execution_count": null,
      "outputs": [
        {
          "output_type": "display_data",
          "data": {
            "image/png": "[encoded data removed]",
            "text/plain": [
              "<Figure size 1134x720 with 1 Axes>"
            ]
          },
          "metadata": {
            "tags": [],
            "needs_background": "light"
          }
        }
      ]
    },
    {
      "cell_type": "code",
      "metadata": {
        "colab": {
          "base_uri": "https://localhost:8080/",
          "height": 719
        },
        "id": "NwzEkrwhGjV4",
        "outputId": "b7b68a5e-e69a-4aa1-84a5-66452aa3df30"
      },
      "source": [
        "def smooth(scalars, weight):\n",
        "\tlast = scalars[0]\n",
        "\tsmoothed = list()\n",
        "\tfor point in scalars:\n",
        "\t\tsmoothed_val = last * weight + (1 - weight) * point\n",
        "\t\tsmoothed.append(smoothed_val)\n",
        "\t\tlast = smoothed_val\n",
        "\treturn smoothed\n",
        "plt.figure(figsize=(6.3,4), dpi=180)\n",
        "legend = []\n",
        "for f in glob('/gdrive/My Drive/Deep Learning/Eksamensprojekt/*/*.npz'):\n",
        "  m_name = os.path.dirname(f).split('/')[-1]\n",
        "  loss_file = f\"/gdrive/My Drive/Deep Learning/Eksamensprojekt/losses/{m_name}_loss.p\"\n",
        "  if os.path.exists(loss_file) and 'epochs20' not in m_name:\n",
        "    with open(loss_file,\"rb\") as lf:\n",
        "      losss = pickle.load(lf)\n",
        "    legend.append(m_name.replace('-all','-shared'))\n",
        "    if 'batch64' in m_name:\n",
        "      plt.plot(np.linspace(1,4890,len(losss)),smooth(losss,0.95), linewidth=0.8)\n",
        "    else:\n",
        "      plt.plot(smooth(losss,0.95), linewidth=0.5)\n",
        "plt.xticks(np.arange(1,6)*978, ['1','2','3','4','5'])\n",
        "plt.title(\"Training Losses\")\n",
        "plt.xlabel(\"Epoch\")\n",
        "plt.ylim([0,2])\n",
        "plt.legend(legend)\n",
        "plt.tight_layout()\n",
        "plt.savefig(f'/gdrive/My Drive/Deep Learning/Eksamensprojekt/losses.pdf',format=\"pdf\",bbox_inches='tight',pad_inches=0)\n",
        "plt.savefig(f'/gdrive/My Drive/Deep Learning/Eksamensprojekt/losses.png',format=\"png\",bbox_inches='tight',pad_inches=0)"
      ],
      "execution_count": null,
      "outputs": [
        {
          "output_type": "display_data",
          "data": {
            "image/png": "[encoded data removed]",
            "text/plain": [
              "<Figure size 1134x720 with 1 Axes>"
            ]
          },
          "metadata": {
            "tags": [],
            "needs_background": "light"
          }
        }
      ]
    },
    {
      "cell_type": "code",
      "metadata": {
        "colab": {
          "base_uri": "https://localhost:8080/",
          "height": 770
        },
        "id": "UBRGYNWHav5g",
        "outputId": "7b3c9644-57a7-4f27-815a-4af3d61538b1"
      },
      "source": [
        "fig, axs = plt.subplots(2,4,figsize=(4*3.5,7), dpi=360)\n",
        "for i in range(4):\n",
        "  query_maps = []\n",
        "  key_maps = []\n",
        "  value_maps = []\n",
        "  hooks = [\n",
        "            model_all.model.encoder.layer[i].attention.self.query.register_forward_hook(\n",
        "              lambda self, input, output: query_maps.append(output[0])\n",
        "            ),\n",
        "            model_all.model.encoder.layer[i].attention.self.key.register_forward_hook(\n",
        "              lambda self, input, output: key_maps.append(output[0])\n",
        "            ),\n",
        "            model_all.model.encoder.layer[i].attention.self.value.register_forward_hook(\n",
        "              lambda self, input, output: value_maps.append(output[0])\n",
        "            )\n",
        "  ]\n",
        "  question = \"When did World War I end?\"\n",
        "  passage = \"World War I was a global war originating in Europe that lasted from 28 July 1914 to 11 November 1918\"\n",
        "  #question = \"who was the head of the college of pontiffs?\"\n",
        "  #passage = \"Until 104 BC, the pontifex maximus held the sole power in appointing members to the other priesthoods in the college.\"\n",
        "  model_all.eval()\n",
        "  with torch.no_grad():\n",
        "    quest = {k:v.to(device) for k, v in tokenizer(question, return_tensors='pt', padding=True).items()}\n",
        "    quest_embed = model_all.embed_q(quest)\n",
        "    pas = {k:v.to(device) for k, v in tokenizer(passage, return_tensors='pt', padding=True).items()}\n",
        "    pas_embed = model_all.embed_p(pas)\n",
        "  for hook in hooks:\n",
        "    hook.remove()\n",
        "\n",
        "  attn_maps = []\n",
        "  attn_toks = []\n",
        "  for query_layer, key_layer, value_layer, pqs in zip(query_maps, key_maps, value_maps, [quest, pas]):\n",
        "    attention_scores = torch.matmul(query_layer, key_layer.transpose(-1, -2))\n",
        "    #attention_scores = torch.matmul(query_layer[:,64*5:64*(5+1)], key_layer[:,64*5:64*(5+1)].transpose(-1, -2)) # LOOK AT ONE HEAD ONLY\n",
        "    attention_scores = attention_scores / np.sqrt(model_all.model.encoder.layer[-1].attention.self.attention_head_size)\n",
        "    attention_probs = torch.nn.LogSoftmax(dim=-1)(attention_scores)\n",
        "    attn_maps.append(attention_probs)\n",
        "    attn_toks.append([tokenizer.decode(pq) for pq in pqs['input_ids'][0]])\n",
        "\n",
        "\n",
        "  for attn_map, attn_tok, ax, ttl in zip(attn_maps, attn_toks, [axs[0][i], axs[1][i]], ['q attention layer: ', 'p attention layer: ']):\n",
        "    ax.imshow(attn_map.cpu()[:-1,1:-1], interpolation='none', aspect='equal', cmap='viridis')\n",
        "    ax.set_xticks(np.arange(len(attn_tok[1:-1])))\n",
        "    ax.set_yticks(np.arange(len(attn_tok[:-1])))\n",
        "    ax.set_xticklabels(attn_tok[1:-1])\n",
        "    ax.set_yticklabels(attn_tok[:-1])\n",
        "    ax.set_title(ttl+str(i+1))\n",
        "    for tick in ax.get_xticklabels():\n",
        "        tick.set_rotation(90)\n",
        "plt.tight_layout()\n",
        "# fig.savefig(f'/gdrive/My Drive/Deep Learning/Eksamensprojekt/{modelname}_self_attentions_ALL_LAYERS_pontiff.pdf',\n",
        "#              format=\"pdf\",\n",
        "#              bbox_inches='tight',\n",
        "#              pad_inches=0)\n",
        "# fig.savefig(f'/gdrive/My Drive/Deep Learning/Eksamensprojekt/{modelname}_self_attentions_ALL_LAYERS_pontiff.png',\n",
        "#              format=\"png\",\n",
        "#              bbox_inches='tight',\n",
        "#              pad_inches=0)"
      ],
      "execution_count": null,
      "outputs": [
        {
          "output_type": "display_data",
          "data": {
            "image/png": "[encoded data removed]",
            "text/plain": [
              "<Figure size 5040x2520 with 8 Axes>"
            ]
          },
          "metadata": {
            "tags": [],
            "needs_background": "light"
          }
        }
      ]
    },
    {
      "cell_type": "code",
      "metadata": {
        "colab": {
          "base_uri": "https://localhost:8080/"
        },
        "id": "7FOWm7kTyN8t",
        "outputId": "97ef3771-d738-4bec-d73f-4fada907caea"
      },
      "source": [
        "query_layer[:,:64]"
      ],
      "execution_count": null,
      "outputs": [
        {
          "output_type": "execute_result",
          "data": {
            "text/plain": [
              "tensor([[-2.2025,  0.4418,  0.3726,  ..., -0.7212,  0.1160,  0.5523],\n",
              "        [-3.1494, -0.4508,  0.9805,  ...,  0.3398, -0.3644, -0.1086],\n",
              "        [-2.6463, -0.0583,  1.0584,  ...,  0.2056, -0.1747, -0.2676],\n",
              "        ...,\n",
              "        [-3.1354, -0.0557,  0.6362,  ...,  0.0258, -0.1447, -0.4868],\n",
              "        [-1.5238,  0.1380,  0.9690,  ..., -1.2341, -0.6492, -0.2202],\n",
              "        [-0.2763,  0.4506,  0.6876,  ...,  0.1610, -0.3168,  0.4527]],\n",
              "       device='cuda:0')"
            ]
          },
          "metadata": {
            "tags": []
          },
          "execution_count": 14
        }
      ]
    },
    {
      "cell_type": "code",
      "metadata": {
        "colab": {
          "base_uri": "https://localhost:8080/"
        },
        "id": "tFlxsHA0x2Ck",
        "outputId": "a753d383-10e9-422c-9672-d52d27892e9d"
      },
      "source": [
        "fig, axs = plt.subplots(2,4,figsize=(8,4), dpi=360)"
      ],
      "execution_count": null,
      "outputs": [
        {
          "output_type": "execute_result",
          "data": {
            "text/plain": [
              "array([<matplotlib.axes._subplots.AxesSubplot object at 0x7f6dc8fc85f8>,\n",
              "       <matplotlib.axes._subplots.AxesSubplot object at 0x7f6e3e0334a8>,\n",
              "       <matplotlib.axes._subplots.AxesSubplot object at 0x7f6e311e6278>,\n",
              "       <matplotlib.axes._subplots.AxesSubplot object at 0x7f6e311dea20>],\n",
              "      dtype=object)"
            ]
          },
          "metadata": {
            "tags": []
          },
          "execution_count": 33
        }
      ]
    },
    {
      "cell_type": "code",
      "metadata": {
        "colab": {
          "base_uri": "https://localhost:8080/",
          "height": 246
        },
        "id": "6NQlnR8TuZo0",
        "outputId": "e491ec95-0c01-4151-b43b-7a3eefd72f69"
      },
      "source": [
        "query_maps = []\n",
        "key_maps = []\n",
        "value_maps = []\n",
        "hooks = [\n",
        "          model_all.model.encoder.layer[0].attention.self.query.register_forward_hook(\n",
        "            lambda self, input, output: query_maps.append(output[0])\n",
        "          ),\n",
        "          model_all.model.encoder.layer[0].attention.self.key.register_forward_hook(\n",
        "            lambda self, input, output: key_maps.append(output[0])\n",
        "          ),\n",
        "          model_all.model.encoder.layer[0].attention.self.value.register_forward_hook(\n",
        "            lambda self, input, output: value_maps.append(output[0])\n",
        "          )\n",
        "]\n",
        "question = \"When did World War I end?\"\n",
        "passage = \"World War I was a global war originating in Europe that lasted from 28 July 1914 to 11 November 1918\"\n",
        "model_all.eval()\n",
        "with torch.no_grad():\n",
        "  quest = {k:v.to(device) for k, v in tokenizer(question, return_tensors='pt', padding=True).items()}\n",
        "  quest_embed = model_all.embed_q(quest)\n",
        "  pas = {k:v.to(device) for k, v in tokenizer(passage, return_tensors='pt', padding=True).items()}\n",
        "  pas_embed = model_all.embed_p(pas)\n",
        "for hook in hooks:\n",
        "  hook.remove()\n",
        "\n",
        "attn_maps = []\n",
        "attn_toks = []\n",
        "attention_scores = torch.matmul(query_maps[0], key_maps[1].transpose(-1, -2))\n",
        "attention_scores = attention_scores / np.sqrt(model_all.model.encoder.layer[-1].attention.self.attention_head_size)\n",
        "attention_probs = torch.nn.LogSoftmax(dim=-1)(attention_scores)\n",
        "attn_map = attention_probs\n",
        "\n",
        "\n",
        "plt.imshow(attn_map.cpu(), interpolation='none', aspect='equal', cmap='viridis')\n",
        "plt.xticks(np.arange(len([tokenizer.decode(pq) for pq in pas['input_ids'][0]])), [tokenizer.decode(pq) for pq in pas['input_ids'][0]], rotation=90)\n",
        "plt.yticks(np.arange(len([tokenizer.decode(pq) for pq in quest['input_ids'][0]])), [tokenizer.decode(pq) for pq in quest['input_ids'][0]])\n",
        "plt.tight_layout()\n",
        "# fig.savefig(f'/gdrive/My Drive/Deep Learning/Eksamensprojekt/{modelname}_self_attentions.pdf',\n",
        "#              format=\"pdf\",\n",
        "#              bbox_inches='tight',\n",
        "#              pad_inches=0)\n",
        "# fig.savefig(f'/gdrive/My Drive/Deep Learning/Eksamensprojekt/{modelname}_self_attentions.png',\n",
        "#              format=\"png\",\n",
        "#              bbox_inches='tight',\n",
        "#              pad_inches=0)"
      ],
      "execution_count": null,
      "outputs": [
        {
          "output_type": "display_data",
          "data": {
            "image/png": "[encoded data removed]",
            "text/plain": [
              "<Figure size 432x288 with 1 Axes>"
            ]
          },
          "metadata": {
            "tags": [],
            "needs_background": "light"
          }
        }
      ]
    },
    {
      "cell_type": "markdown",
      "metadata": {
        "id": "Gbm8Q2oEgaMm"
      },
      "source": [
        "# BM25 Okapi"
      ]
    },
    {
      "cell_type": "code",
      "metadata": {
        "colab": {
          "base_uri": "https://localhost:8080/",
          "height": 151,
          "referenced_widgets": [
            "0ea95dde722a4108ab1edd76a20b3952",
            "206417540cb24d5e8c6deefe00881f1b",
            "13f54b0197204581b9727d10bb5c0bfa",
            "3675dc50d4b04dc8930b21d63205217c",
            "a38acc7c24194691baf03d18a4ded5db",
            "91978616e5d9408b89373458e52af8c1",
            "fd482a385cdf4e99a785c659186f6d96",
            "401a23b505f44fec90c6bd83cc3f4db4"
          ]
        },
        "id": "EY00t8bUfTc3",
        "outputId": "9190d596-6126-40fd-eba1-37eff14e5fef"
      },
      "source": [
        "doc_to_idx = dict()\n",
        "idx_to_doc = dict()\n",
        "corpus = []\n",
        "doc_idx = 0\n",
        "def add_bm25_corpus(batch):\n",
        "  global doc_idx, corpus\n",
        "  p_hids = []\n",
        "  for entity_page in batch['entity_pages']:\n",
        "    for title, page in zip(entity_page['title'], entity_page['wiki_context']):\n",
        "      if len(title) > 0 and len(page) > 0 and not title in doc_to_idx.keys():\n",
        "        encoded_wiki = tokenizer(page, add_special_tokens=False, return_token_type_ids=False, return_attention_mask=False)\n",
        "        corpus.append(encoded_wiki['input_ids'])\n",
        "        doc_to_idx[title] = doc_idx\n",
        "        idx_to_doc[doc_idx] = title\n",
        "        doc_idx += 1\n",
        "\n",
        "dataset_test = load_dataset(\"trivia_qa\", 'rc', split='test')\n",
        "dataset_test.map(add_bm25_corpus, new_fingerprint='4v3gyy34tc43', batched=True, batch_size=16)"
      ],
      "execution_count": null,
      "outputs": [
        {
          "output_type": "stream",
          "text": [
            "Reusing dataset trivia_qa (/root/.cache/huggingface/datasets/trivia_qa/rc/1.1.0/e734e28133f4d9a353af322aa52b9f266f6f27cbf2f072690a1694e577546b0d)\n"
          ],
          "name": "stderr"
        },
        {
          "output_type": "display_data",
          "data": {
            "application/vnd.jupyter.widget-view+json": {
              "model_id": "0ea95dde722a4108ab1edd76a20b3952",
              "version_major": 2,
              "version_minor": 0
            },
            "text/plain": [
              "HBox(children=(FloatProgress(value=0.0, max=1076.0), HTML(value='')))"
            ]
          },
          "metadata": {
            "tags": []
          }
        },
        {
          "output_type": "stream",
          "text": [
            "\n"
          ],
          "name": "stdout"
        },
        {
          "output_type": "execute_result",
          "data": {
            "text/plain": [
              "Dataset({\n",
              "    features: ['question', 'question_id', 'question_source', 'entity_pages', 'search_results', 'answer'],\n",
              "    num_rows: 17210\n",
              "})"
            ]
          },
          "metadata": {
            "tags": []
          },
          "execution_count": 10
        }
      ]
    },
    {
      "cell_type": "code",
      "metadata": {
        "id": "to4hQPxbhYd4"
      },
      "source": [
        "bm25 = BM25Okapi(corpus)"
      ],
      "execution_count": null,
      "outputs": []
    },
    {
      "cell_type": "code",
      "metadata": {
        "colab": {
          "base_uri": "https://localhost:8080/",
          "height": 134,
          "referenced_widgets": [
            "75b656c8b0364f8d8cfb74d6f195e2d9",
            "24b51aa59e41469cb2b181ec9f3d6d04",
            "41f7eb0a17044299aa4a5a9bef156c83",
            "e8c02a3268b4482086273e54ca9c4451",
            "6f3abe701ee743bf91a6b90a29c348c4",
            "058ec9626db64bf08ad7aca94ec45f1c",
            "73855ed11d8745fa896c7465c8996e6d",
            "ee97d3ae790a4e1aa930b5a871dd8a1b"
          ]
        },
        "id": "mWUJZeEMprfS",
        "outputId": "78a14568-d4e7-4e97-c83f-c55239f0eae7"
      },
      "source": [
        "top_100_c_pred = []\n",
        "def search_bm25_corpus(batch):\n",
        "  global top_100_c_pred\n",
        "  used_questions = [question for entity_page, question in zip(batch['entity_pages'], batch['question']) if len(entity_page['wiki_context']) > 0 and len(entity_page['title']) > 0]\n",
        "  used_idxs = [[doc_to_idx[title] for title in entity_page['title']] for entity_page in batch['entity_pages'] if len(entity_page['wiki_context']) > 0 and len(entity_page['title']) > 0]\n",
        "  quest = tokenizer(used_questions, add_special_tokens=False, return_token_type_ids=False, return_attention_mask=False)['input_ids']\n",
        "  for q, true_idxs in zip(quest, used_idxs):\n",
        "    scores = bm25.get_scores(q)\n",
        "    top_k_scores = scores.argsort()[-100:][::-1]\n",
        "    top_100_c_pred.append(np.isin(top_k_scores, true_idxs))\n",
        "\n",
        "dataset_test.map(search_bm25_corpus, new_fingerprint='rtvgbtiy65vb', batched=True, batch_size=64)"
      ],
      "execution_count": null,
      "outputs": [
        {
          "output_type": "display_data",
          "data": {
            "application/vnd.jupyter.widget-view+json": {
              "model_id": "75b656c8b0364f8d8cfb74d6f195e2d9",
              "version_major": 2,
              "version_minor": 0
            },
            "text/plain": [
              "HBox(children=(FloatProgress(value=0.0, max=269.0), HTML(value='')))"
            ]
          },
          "metadata": {
            "tags": []
          }
        },
        {
          "output_type": "stream",
          "text": [
            "\n"
          ],
          "name": "stdout"
        },
        {
          "output_type": "execute_result",
          "data": {
            "text/plain": [
              "Dataset({\n",
              "    features: ['question', 'question_id', 'question_source', 'entity_pages', 'search_results', 'answer'],\n",
              "    num_rows: 17210\n",
              "})"
            ]
          },
          "metadata": {
            "tags": []
          },
          "execution_count": 42
        }
      ]
    },
    {
      "cell_type": "code",
      "metadata": {
        "id": "NGuAzrpLsidB"
      },
      "source": [
        "top_100_c_pred_arr = np.array(top_100_c_pred)\n",
        "np.savez(f'/gdrive/My Drive/Deep Learning/Eksamensprojekt/BM25_Okapi_top_100_c_pred.npz', top_100_c_pred_arr)\n",
        "correct_doc_in_top_k = (top_100_c_pred_arr.cumsum(1) > 0).sum(0)/top_100_c_pred_arr.shape[0]"
      ],
      "execution_count": null,
      "outputs": []
    },
    {
      "cell_type": "code",
      "metadata": {
        "colab": {
          "base_uri": "https://localhost:8080/",
          "height": 296
        },
        "id": "hQn1hV373XnG",
        "outputId": "ddb42ad0-822f-4a84-c920-ae751f371075"
      },
      "source": [
        "from matplotlib import pyplot as plt\n",
        "plt.plot(np.arange(1,len(correct_doc_in_top_k)+1),correct_doc_in_top_k*100)\n",
        "plt.xlabel(\"k: number of retrieved documents\")\n",
        "plt.ylabel(\"Retrieved correct document in top-k (%)\")"
      ],
      "execution_count": null,
      "outputs": [
        {
          "output_type": "execute_result",
          "data": {
            "text/plain": [
              "Text(0, 0.5, 'Retrieved correct document in top-k (%)')"
            ]
          },
          "metadata": {
            "tags": []
          },
          "execution_count": 44
        },
        {
          "output_type": "display_data",
          "data": {
            "image/png": "[encoded data removed]",
            "text/plain": [
              "<Figure size 432x288 with 1 Axes>"
            ]
          },
          "metadata": {
            "tags": []
          }
        }
      ]
    },
    {
      "cell_type": "code",
      "metadata": {
        "id": "O2MHtie6yDs5"
      },
      "source": [
        "from glob import glob\n",
        "from matplotlib import pyplot as plt\n",
        "import numpy as np\n",
        "import os.path\n",
        "import pickle\n",
        "accurs = []\n",
        "for f in glob('/gdrive/My Drive/Deep Learning/Eksamensprojekt/*/*.npz'):\n",
        "  top_100_c_pred_arr = np.load(f)['arr_0']\n",
        "  correct_doc_in_top_k = (top_100_c_pred_arr.cumsum(1) > 0)\n",
        "  accurs.append((os.path.dirname(f).split(\"/\")[-1].replace('-all','-shared'), correct_doc_in_top_k))"
      ],
      "execution_count": null,
      "outputs": []
    },
    {
      "cell_type": "code",
      "metadata": {
        "colab": {
          "base_uri": "https://localhost:8080/"
        },
        "id": "FiBFujCFzs0H",
        "outputId": "2d680280-0f8a-47ea-b31e-c182977ce7fb"
      },
      "source": [
        "accurs[0][1].shape"
      ],
      "execution_count": null,
      "outputs": [
        {
          "output_type": "execute_result",
          "data": {
            "text/plain": [
              "(15543, 100)"
            ]
          },
          "metadata": {
            "tags": []
          },
          "execution_count": 11
        }
      ]
    },
    {
      "cell_type": "code",
      "metadata": {
        "colab": {
          "base_uri": "https://localhost:8080/"
        },
        "id": "o6cYzaOLyUSD",
        "outputId": "7e890d97-05be-4123-bff8-a7724b7e7971"
      },
      "source": [
        "for n, a in accurs:\n",
        "  std = 1.96*np.sqrt(a.var(axis=0)/a.shape[0])\n",
        "  cfs = np.stack([a.mean(axis=0)]).T\n",
        "  print(f\"{n} & \"+\" & \".join([f\"{100*(cfs[cf-1][0]):.2f}\\\\%\" for cf in [1,5,20,50,100]])+\"\\\\\\\\\")"
      ],
      "execution_count": null,
      "outputs": [
        {
          "output_type": "stream",
          "text": [
            "bert-small-128-split & 37.73\\% & 59.18\\% & 74.90\\% & 82.76\\% & 87.67\\%\\\\\n",
            "bert-small-512-split & 48.30\\% & 68.49\\% & 80.80\\% & 86.95\\% & 90.13\\%\\\\\n",
            "BM25_Okapi & 65.82\\% & 84.86\\% & 92.26\\% & 94.81\\% & 96.42\\%\\\\\n",
            "distilbert-768-shared-batch64 & 52.32\\% & 71.31\\% & 83.25\\% & 88.65\\% & 91.91\\%\\\\\n",
            "bert-small-512-shared-epochs20 & 53.14\\% & 72.18\\% & 83.20\\% & 88.25\\% & 91.30\\%\\\\\n",
            "bert-small-512-shared & 53.71\\% & 73.37\\% & 84.75\\% & 89.90\\% & 92.62\\%\\\\\n",
            "bert-small-128-shared & 44.82\\% & 66.01\\% & 80.05\\% & 86.52\\% & 90.43\\%\\\\\n"
          ],
          "name": "stdout"
        }
      ]
    },
    {
      "cell_type": "code",
      "metadata": {
        "id": "DwAMTlb-zGuc"
      },
      "source": [
        ""
      ],
      "execution_count": null,
      "outputs": []
    }
  ]
}